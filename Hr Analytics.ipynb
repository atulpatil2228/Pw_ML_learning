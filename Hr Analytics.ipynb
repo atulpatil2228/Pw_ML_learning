{
 "cells": [
  {
   "cell_type": "code",
   "execution_count": 1,
   "id": "8f3c04a0-9236-4567-9242-4c561fc2bc3e",
   "metadata": {},
   "outputs": [],
   "source": [
    "import pandas as pd\n",
    "import numpy as np\n",
    "import seaborn as sns\n",
    "import matplotlib.pyplot as plt\n",
    "\n",
    "import warnings\n",
    "warnings.filterwarnings('ignore')\n"
   ]
  },
  {
   "cell_type": "code",
   "execution_count": 6,
   "id": "67f3c726-72aa-4fde-b9e5-cb05c22c35d5",
   "metadata": {},
   "outputs": [],
   "source": [
    "df = pd.read_csv(\"C:\\\\Users\\HP\\Downloads\\HRDataset_v14.csv\")"
   ]
  },
  {
   "cell_type": "code",
   "execution_count": 7,
   "id": "6013e9ca-3801-459e-bc42-fc111554dc31",
   "metadata": {},
   "outputs": [
    {
     "data": {
      "text/plain": [
       "Index(['Employee_Name', 'EmpID', 'MarriedID', 'MaritalStatusID', 'GenderID',\n",
       "       'EmpStatusID', 'DeptID', 'PerfScoreID', 'FromDiversityJobFairID',\n",
       "       'Salary', 'Termd', 'PositionID', 'Position', 'State', 'Zip', 'DOB',\n",
       "       'Sex', 'MaritalDesc', 'CitizenDesc', 'HispanicLatino', 'RaceDesc',\n",
       "       'DateofHire', 'DateofTermination', 'TermReason', 'EmploymentStatus',\n",
       "       'Department', 'ManagerName', 'ManagerID', 'RecruitmentSource',\n",
       "       'PerformanceScore', 'EngagementSurvey', 'EmpSatisfaction',\n",
       "       'SpecialProjectsCount', 'LastPerformanceReview_Date', 'DaysLateLast30',\n",
       "       'Absences'],\n",
       "      dtype='object')"
      ]
     },
     "execution_count": 7,
     "metadata": {},
     "output_type": "execute_result"
    }
   ],
   "source": [
    "df.columns"
   ]
  },
  {
   "cell_type": "code",
   "execution_count": 9,
   "id": "a9a22a5b-b81f-461d-9932-f3bd8a0447c1",
   "metadata": {},
   "outputs": [
    {
     "data": {
      "text/plain": [
       "(311, 36)"
      ]
     },
     "execution_count": 9,
     "metadata": {},
     "output_type": "execute_result"
    }
   ],
   "source": [
    "df.shape"
   ]
  },
  {
   "cell_type": "code",
   "execution_count": 10,
   "id": "e75cef60-12bd-4514-8a6f-eb8b5c3a2c37",
   "metadata": {},
   "outputs": [
    {
     "data": {
      "text/plain": [
       "Employee_Name                  object\n",
       "EmpID                           int64\n",
       "MarriedID                       int64\n",
       "MaritalStatusID                 int64\n",
       "GenderID                        int64\n",
       "EmpStatusID                     int64\n",
       "DeptID                          int64\n",
       "PerfScoreID                     int64\n",
       "FromDiversityJobFairID          int64\n",
       "Salary                          int64\n",
       "Termd                           int64\n",
       "PositionID                      int64\n",
       "Position                       object\n",
       "State                          object\n",
       "Zip                             int64\n",
       "DOB                            object\n",
       "Sex                            object\n",
       "MaritalDesc                    object\n",
       "CitizenDesc                    object\n",
       "HispanicLatino                 object\n",
       "RaceDesc                       object\n",
       "DateofHire                     object\n",
       "DateofTermination              object\n",
       "TermReason                     object\n",
       "EmploymentStatus               object\n",
       "Department                     object\n",
       "ManagerName                    object\n",
       "ManagerID                     float64\n",
       "RecruitmentSource              object\n",
       "PerformanceScore               object\n",
       "EngagementSurvey              float64\n",
       "EmpSatisfaction                 int64\n",
       "SpecialProjectsCount            int64\n",
       "LastPerformanceReview_Date     object\n",
       "DaysLateLast30                  int64\n",
       "Absences                        int64\n",
       "dtype: object"
      ]
     },
     "execution_count": 10,
     "metadata": {},
     "output_type": "execute_result"
    }
   ],
   "source": [
    "df.dtypes"
   ]
  },
  {
   "cell_type": "code",
   "execution_count": 12,
   "id": "22f8b2f3-8907-4bf3-a92f-5d82fe5c853e",
   "metadata": {},
   "outputs": [
    {
     "name": "stdout",
     "output_type": "stream",
     "text": [
      "<class 'pandas.core.frame.DataFrame'>\n",
      "RangeIndex: 311 entries, 0 to 310\n",
      "Data columns (total 36 columns):\n",
      " #   Column                      Non-Null Count  Dtype  \n",
      "---  ------                      --------------  -----  \n",
      " 0   Employee_Name               311 non-null    object \n",
      " 1   EmpID                       311 non-null    int64  \n",
      " 2   MarriedID                   311 non-null    int64  \n",
      " 3   MaritalStatusID             311 non-null    int64  \n",
      " 4   GenderID                    311 non-null    int64  \n",
      " 5   EmpStatusID                 311 non-null    int64  \n",
      " 6   DeptID                      311 non-null    int64  \n",
      " 7   PerfScoreID                 311 non-null    int64  \n",
      " 8   FromDiversityJobFairID      311 non-null    int64  \n",
      " 9   Salary                      311 non-null    int64  \n",
      " 10  Termd                       311 non-null    int64  \n",
      " 11  PositionID                  311 non-null    int64  \n",
      " 12  Position                    311 non-null    object \n",
      " 13  State                       311 non-null    object \n",
      " 14  Zip                         311 non-null    int64  \n",
      " 15  DOB                         311 non-null    object \n",
      " 16  Sex                         311 non-null    object \n",
      " 17  MaritalDesc                 311 non-null    object \n",
      " 18  CitizenDesc                 311 non-null    object \n",
      " 19  HispanicLatino              311 non-null    object \n",
      " 20  RaceDesc                    311 non-null    object \n",
      " 21  DateofHire                  311 non-null    object \n",
      " 22  DateofTermination           104 non-null    object \n",
      " 23  TermReason                  311 non-null    object \n",
      " 24  EmploymentStatus            311 non-null    object \n",
      " 25  Department                  311 non-null    object \n",
      " 26  ManagerName                 311 non-null    object \n",
      " 27  ManagerID                   303 non-null    float64\n",
      " 28  RecruitmentSource           311 non-null    object \n",
      " 29  PerformanceScore            311 non-null    object \n",
      " 30  EngagementSurvey            311 non-null    float64\n",
      " 31  EmpSatisfaction             311 non-null    int64  \n",
      " 32  SpecialProjectsCount        311 non-null    int64  \n",
      " 33  LastPerformanceReview_Date  311 non-null    object \n",
      " 34  DaysLateLast30              311 non-null    int64  \n",
      " 35  Absences                    311 non-null    int64  \n",
      "dtypes: float64(2), int64(16), object(18)\n",
      "memory usage: 87.6+ KB\n"
     ]
    }
   ],
   "source": [
    "df.info()"
   ]
  },
  {
   "cell_type": "code",
   "execution_count": 13,
   "id": "8a61ef13-6a21-4082-9d3a-fe1a03f7a8e0",
   "metadata": {},
   "outputs": [],
   "source": [
    "## cleaning the data "
   ]
  },
  {
   "cell_type": "code",
   "execution_count": 17,
   "id": "5cd1b545-8da5-4472-bd4a-1e033f45e458",
   "metadata": {},
   "outputs": [
    {
     "data": {
      "text/plain": [
       "Employee_Name                 0\n",
       "EmpID                         0\n",
       "MarriedID                     0\n",
       "MaritalStatusID               0\n",
       "GenderID                      0\n",
       "EmpStatusID                   0\n",
       "DeptID                        0\n",
       "PerfScoreID                   0\n",
       "FromDiversityJobFairID        0\n",
       "Salary                        0\n",
       "Termd                         0\n",
       "PositionID                    0\n",
       "Position                      0\n",
       "State                         0\n",
       "Zip                           0\n",
       "DOB                           0\n",
       "Sex                           0\n",
       "MaritalDesc                   0\n",
       "CitizenDesc                   0\n",
       "HispanicLatino                0\n",
       "RaceDesc                      0\n",
       "DateofHire                    0\n",
       "DateofTermination             0\n",
       "TermReason                    0\n",
       "EmploymentStatus              0\n",
       "Department                    0\n",
       "ManagerName                   0\n",
       "ManagerID                     0\n",
       "RecruitmentSource             0\n",
       "PerformanceScore              0\n",
       "EngagementSurvey              0\n",
       "EmpSatisfaction               0\n",
       "SpecialProjectsCount          0\n",
       "LastPerformanceReview_Date    0\n",
       "DaysLateLast30                0\n",
       "Absences                      0\n",
       "dtype: int64"
      ]
     },
     "execution_count": 17,
     "metadata": {},
     "output_type": "execute_result"
    }
   ],
   "source": [
    "df.isnull().sum()"
   ]
  },
  {
   "cell_type": "code",
   "execution_count": 16,
   "id": "06b51aa0-728c-4261-b034-a6a0463a8d98",
   "metadata": {},
   "outputs": [],
   "source": [
    "df.fillna(\"0\",inplace=True)"
   ]
  },
  {
   "cell_type": "code",
   "execution_count": 18,
   "id": "da28c2b1-1c9e-4e98-b1c8-42847d81b0bd",
   "metadata": {},
   "outputs": [
    {
     "data": {
      "text/plain": [
       "np.int64(0)"
      ]
     },
     "execution_count": 18,
     "metadata": {},
     "output_type": "execute_result"
    }
   ],
   "source": [
    "df.duplicated().sum()"
   ]
  },
  {
   "cell_type": "code",
   "execution_count": 19,
   "id": "b92c7dbb-cde2-44b6-a1f7-71dfc9922ebe",
   "metadata": {},
   "outputs": [],
   "source": [
    "df.drop_duplicates(inplace = True)"
   ]
  },
  {
   "cell_type": "code",
   "execution_count": 20,
   "id": "dc62c387-1ae6-4b44-bfd6-c3c107f82089",
   "metadata": {},
   "outputs": [
    {
     "data": {
      "text/html": [
       "<div>\n",
       "<style scoped>\n",
       "    .dataframe tbody tr th:only-of-type {\n",
       "        vertical-align: middle;\n",
       "    }\n",
       "\n",
       "    .dataframe tbody tr th {\n",
       "        vertical-align: top;\n",
       "    }\n",
       "\n",
       "    .dataframe thead th {\n",
       "        text-align: right;\n",
       "    }\n",
       "</style>\n",
       "<table border=\"1\" class=\"dataframe\">\n",
       "  <thead>\n",
       "    <tr style=\"text-align: right;\">\n",
       "      <th></th>\n",
       "      <th>Employee_Name</th>\n",
       "      <th>EmpID</th>\n",
       "      <th>MarriedID</th>\n",
       "      <th>MaritalStatusID</th>\n",
       "      <th>GenderID</th>\n",
       "      <th>EmpStatusID</th>\n",
       "      <th>DeptID</th>\n",
       "      <th>PerfScoreID</th>\n",
       "      <th>FromDiversityJobFairID</th>\n",
       "      <th>Salary</th>\n",
       "      <th>...</th>\n",
       "      <th>ManagerName</th>\n",
       "      <th>ManagerID</th>\n",
       "      <th>RecruitmentSource</th>\n",
       "      <th>PerformanceScore</th>\n",
       "      <th>EngagementSurvey</th>\n",
       "      <th>EmpSatisfaction</th>\n",
       "      <th>SpecialProjectsCount</th>\n",
       "      <th>LastPerformanceReview_Date</th>\n",
       "      <th>DaysLateLast30</th>\n",
       "      <th>Absences</th>\n",
       "    </tr>\n",
       "  </thead>\n",
       "  <tbody>\n",
       "    <tr>\n",
       "      <th>0</th>\n",
       "      <td>Adinolfi, Wilson  K</td>\n",
       "      <td>10026</td>\n",
       "      <td>0</td>\n",
       "      <td>0</td>\n",
       "      <td>1</td>\n",
       "      <td>1</td>\n",
       "      <td>5</td>\n",
       "      <td>4</td>\n",
       "      <td>0</td>\n",
       "      <td>62506</td>\n",
       "      <td>...</td>\n",
       "      <td>Michael Albert</td>\n",
       "      <td>22.0</td>\n",
       "      <td>LinkedIn</td>\n",
       "      <td>Exceeds</td>\n",
       "      <td>4.60</td>\n",
       "      <td>5</td>\n",
       "      <td>0</td>\n",
       "      <td>1/17/2019</td>\n",
       "      <td>0</td>\n",
       "      <td>1</td>\n",
       "    </tr>\n",
       "    <tr>\n",
       "      <th>1</th>\n",
       "      <td>Ait Sidi, Karthikeyan</td>\n",
       "      <td>10084</td>\n",
       "      <td>1</td>\n",
       "      <td>1</td>\n",
       "      <td>1</td>\n",
       "      <td>5</td>\n",
       "      <td>3</td>\n",
       "      <td>3</td>\n",
       "      <td>0</td>\n",
       "      <td>104437</td>\n",
       "      <td>...</td>\n",
       "      <td>Simon Roup</td>\n",
       "      <td>4.0</td>\n",
       "      <td>Indeed</td>\n",
       "      <td>Fully Meets</td>\n",
       "      <td>4.96</td>\n",
       "      <td>3</td>\n",
       "      <td>6</td>\n",
       "      <td>2/24/2016</td>\n",
       "      <td>0</td>\n",
       "      <td>17</td>\n",
       "    </tr>\n",
       "    <tr>\n",
       "      <th>2</th>\n",
       "      <td>Akinkuolie, Sarah</td>\n",
       "      <td>10196</td>\n",
       "      <td>1</td>\n",
       "      <td>1</td>\n",
       "      <td>0</td>\n",
       "      <td>5</td>\n",
       "      <td>5</td>\n",
       "      <td>3</td>\n",
       "      <td>0</td>\n",
       "      <td>64955</td>\n",
       "      <td>...</td>\n",
       "      <td>Kissy Sullivan</td>\n",
       "      <td>20.0</td>\n",
       "      <td>LinkedIn</td>\n",
       "      <td>Fully Meets</td>\n",
       "      <td>3.02</td>\n",
       "      <td>3</td>\n",
       "      <td>0</td>\n",
       "      <td>5/15/2012</td>\n",
       "      <td>0</td>\n",
       "      <td>3</td>\n",
       "    </tr>\n",
       "    <tr>\n",
       "      <th>3</th>\n",
       "      <td>Alagbe,Trina</td>\n",
       "      <td>10088</td>\n",
       "      <td>1</td>\n",
       "      <td>1</td>\n",
       "      <td>0</td>\n",
       "      <td>1</td>\n",
       "      <td>5</td>\n",
       "      <td>3</td>\n",
       "      <td>0</td>\n",
       "      <td>64991</td>\n",
       "      <td>...</td>\n",
       "      <td>Elijiah Gray</td>\n",
       "      <td>16.0</td>\n",
       "      <td>Indeed</td>\n",
       "      <td>Fully Meets</td>\n",
       "      <td>4.84</td>\n",
       "      <td>5</td>\n",
       "      <td>0</td>\n",
       "      <td>1/3/2019</td>\n",
       "      <td>0</td>\n",
       "      <td>15</td>\n",
       "    </tr>\n",
       "    <tr>\n",
       "      <th>4</th>\n",
       "      <td>Anderson, Carol</td>\n",
       "      <td>10069</td>\n",
       "      <td>0</td>\n",
       "      <td>2</td>\n",
       "      <td>0</td>\n",
       "      <td>5</td>\n",
       "      <td>5</td>\n",
       "      <td>3</td>\n",
       "      <td>0</td>\n",
       "      <td>50825</td>\n",
       "      <td>...</td>\n",
       "      <td>Webster Butler</td>\n",
       "      <td>39.0</td>\n",
       "      <td>Google Search</td>\n",
       "      <td>Fully Meets</td>\n",
       "      <td>5.00</td>\n",
       "      <td>4</td>\n",
       "      <td>0</td>\n",
       "      <td>2/1/2016</td>\n",
       "      <td>0</td>\n",
       "      <td>2</td>\n",
       "    </tr>\n",
       "  </tbody>\n",
       "</table>\n",
       "<p>5 rows × 36 columns</p>\n",
       "</div>"
      ],
      "text/plain": [
       "              Employee_Name  EmpID  MarriedID  MaritalStatusID  GenderID  \\\n",
       "0       Adinolfi, Wilson  K  10026          0                0         1   \n",
       "1  Ait Sidi, Karthikeyan     10084          1                1         1   \n",
       "2         Akinkuolie, Sarah  10196          1                1         0   \n",
       "3              Alagbe,Trina  10088          1                1         0   \n",
       "4          Anderson, Carol   10069          0                2         0   \n",
       "\n",
       "   EmpStatusID  DeptID  PerfScoreID  FromDiversityJobFairID  Salary  ...  \\\n",
       "0            1       5            4                       0   62506  ...   \n",
       "1            5       3            3                       0  104437  ...   \n",
       "2            5       5            3                       0   64955  ...   \n",
       "3            1       5            3                       0   64991  ...   \n",
       "4            5       5            3                       0   50825  ...   \n",
       "\n",
       "      ManagerName  ManagerID RecruitmentSource PerformanceScore  \\\n",
       "0  Michael Albert       22.0          LinkedIn          Exceeds   \n",
       "1      Simon Roup        4.0            Indeed      Fully Meets   \n",
       "2  Kissy Sullivan       20.0          LinkedIn      Fully Meets   \n",
       "3    Elijiah Gray       16.0            Indeed      Fully Meets   \n",
       "4  Webster Butler       39.0     Google Search      Fully Meets   \n",
       "\n",
       "   EngagementSurvey EmpSatisfaction SpecialProjectsCount  \\\n",
       "0              4.60               5                    0   \n",
       "1              4.96               3                    6   \n",
       "2              3.02               3                    0   \n",
       "3              4.84               5                    0   \n",
       "4              5.00               4                    0   \n",
       "\n",
       "  LastPerformanceReview_Date DaysLateLast30 Absences  \n",
       "0                  1/17/2019              0        1  \n",
       "1                  2/24/2016              0       17  \n",
       "2                  5/15/2012              0        3  \n",
       "3                   1/3/2019              0       15  \n",
       "4                   2/1/2016              0        2  \n",
       "\n",
       "[5 rows x 36 columns]"
      ]
     },
     "execution_count": 20,
     "metadata": {},
     "output_type": "execute_result"
    }
   ],
   "source": [
    "df.head()"
   ]
  },
  {
   "cell_type": "code",
   "execution_count": 21,
   "id": "fe2f5584-a1ef-4e78-8aed-f1a4e25252ca",
   "metadata": {},
   "outputs": [
    {
     "data": {
      "text/plain": [
       "Index(['Employee_Name', 'EmpID', 'MarriedID', 'MaritalStatusID', 'GenderID',\n",
       "       'EmpStatusID', 'DeptID', 'PerfScoreID', 'FromDiversityJobFairID',\n",
       "       'Salary', 'Termd', 'PositionID', 'Position', 'State', 'Zip', 'DOB',\n",
       "       'Sex', 'MaritalDesc', 'CitizenDesc', 'HispanicLatino', 'RaceDesc',\n",
       "       'DateofHire', 'DateofTermination', 'TermReason', 'EmploymentStatus',\n",
       "       'Department', 'ManagerName', 'ManagerID', 'RecruitmentSource',\n",
       "       'PerformanceScore', 'EngagementSurvey', 'EmpSatisfaction',\n",
       "       'SpecialProjectsCount', 'LastPerformanceReview_Date', 'DaysLateLast30',\n",
       "       'Absences'],\n",
       "      dtype='object')"
      ]
     },
     "execution_count": 21,
     "metadata": {},
     "output_type": "execute_result"
    }
   ],
   "source": [
    "## EDA \n",
    "## Employess with highest salary>> Top 10 highest employeess sallary\n",
    "df.columns"
   ]
  },
  {
   "cell_type": "code",
   "execution_count": 25,
   "id": "4ce2663e-c853-495c-a67f-9828945e93cc",
   "metadata": {},
   "outputs": [
    {
     "data": {
      "text/plain": [
       "150    250000\n",
       "308    220450\n",
       "131    180000\n",
       "96     178000\n",
       "55     170500\n",
       "190    157000\n",
       "240    150290\n",
       "244    148999\n",
       "243    140920\n",
       "76     138888\n",
       "Name: Salary, dtype: int64"
      ]
     },
     "execution_count": 25,
     "metadata": {},
     "output_type": "execute_result"
    }
   ],
   "source": [
    "df['Salary'].sort_values(ascending =  False).head(10)"
   ]
  },
  {
   "cell_type": "code",
   "execution_count": 26,
   "id": "8c8cc20f-cbd4-4d67-bd12-6519083433f2",
   "metadata": {},
   "outputs": [
    {
     "data": {
      "text/plain": [
       "Index(['Employee_Name', 'EmpID', 'MarriedID', 'MaritalStatusID', 'GenderID',\n",
       "       'EmpStatusID', 'DeptID', 'PerfScoreID', 'FromDiversityJobFairID',\n",
       "       'Salary', 'Termd', 'PositionID', 'Position', 'State', 'Zip', 'DOB',\n",
       "       'Sex', 'MaritalDesc', 'CitizenDesc', 'HispanicLatino', 'RaceDesc',\n",
       "       'DateofHire', 'DateofTermination', 'TermReason', 'EmploymentStatus',\n",
       "       'Department', 'ManagerName', 'ManagerID', 'RecruitmentSource',\n",
       "       'PerformanceScore', 'EngagementSurvey', 'EmpSatisfaction',\n",
       "       'SpecialProjectsCount', 'LastPerformanceReview_Date', 'DaysLateLast30',\n",
       "       'Absences'],\n",
       "      dtype='object')"
      ]
     },
     "execution_count": 26,
     "metadata": {},
     "output_type": "execute_result"
    }
   ],
   "source": [
    "df.columns"
   ]
  },
  {
   "cell_type": "code",
   "execution_count": 27,
   "id": "3c51614d-50bb-4407-b1fe-ef8708e0da6d",
   "metadata": {},
   "outputs": [
    {
     "data": {
      "text/plain": [
       "0          Exceeds\n",
       "1      Fully Meets\n",
       "2      Fully Meets\n",
       "3      Fully Meets\n",
       "4      Fully Meets\n",
       "          ...     \n",
       "306    Fully Meets\n",
       "307            PIP\n",
       "308        Exceeds\n",
       "309    Fully Meets\n",
       "310    Fully Meets\n",
       "Name: PerformanceScore, Length: 311, dtype: object"
      ]
     },
     "execution_count": 27,
     "metadata": {},
     "output_type": "execute_result"
    }
   ],
   "source": [
    "df['PerformanceScore']## pip means performance improvememnt plan"
   ]
  },
  {
   "cell_type": "code",
   "execution_count": 28,
   "id": "16c08e32-813b-4f42-a396-9eb92f71ee42",
   "metadata": {},
   "outputs": [],
   "source": [
    "## Employees special attention\n",
    "## performance Improvement Plan"
   ]
  },
  {
   "cell_type": "code",
   "execution_count": 29,
   "id": "2e40e901-1d70-4cb4-9afa-7bb3aba5692d",
   "metadata": {},
   "outputs": [
    {
     "data": {
      "text/plain": [
       "array(['Exceeds', 'Fully Meets', 'Needs Improvement', 'PIP'], dtype=object)"
      ]
     },
     "execution_count": 29,
     "metadata": {},
     "output_type": "execute_result"
    }
   ],
   "source": [
    "df['PerformanceScore'].unique()"
   ]
  },
  {
   "cell_type": "code",
   "execution_count": 35,
   "id": "a81dd08d-06e7-446f-ac81-03249d61046b",
   "metadata": {},
   "outputs": [
    {
     "data": {
      "text/html": [
       "<div>\n",
       "<style scoped>\n",
       "    .dataframe tbody tr th:only-of-type {\n",
       "        vertical-align: middle;\n",
       "    }\n",
       "\n",
       "    .dataframe tbody tr th {\n",
       "        vertical-align: top;\n",
       "    }\n",
       "\n",
       "    .dataframe thead th {\n",
       "        text-align: right;\n",
       "    }\n",
       "</style>\n",
       "<table border=\"1\" class=\"dataframe\">\n",
       "  <thead>\n",
       "    <tr style=\"text-align: right;\">\n",
       "      <th></th>\n",
       "      <th>Employee_Name</th>\n",
       "      <th>EmpID</th>\n",
       "      <th>MarriedID</th>\n",
       "      <th>MaritalStatusID</th>\n",
       "      <th>GenderID</th>\n",
       "      <th>EmpStatusID</th>\n",
       "      <th>DeptID</th>\n",
       "      <th>PerfScoreID</th>\n",
       "      <th>FromDiversityJobFairID</th>\n",
       "      <th>Salary</th>\n",
       "      <th>...</th>\n",
       "      <th>ManagerName</th>\n",
       "      <th>ManagerID</th>\n",
       "      <th>RecruitmentSource</th>\n",
       "      <th>PerformanceScore</th>\n",
       "      <th>EngagementSurvey</th>\n",
       "      <th>EmpSatisfaction</th>\n",
       "      <th>SpecialProjectsCount</th>\n",
       "      <th>LastPerformanceReview_Date</th>\n",
       "      <th>DaysLateLast30</th>\n",
       "      <th>Absences</th>\n",
       "    </tr>\n",
       "  </thead>\n",
       "  <tbody>\n",
       "    <tr>\n",
       "      <th>67</th>\n",
       "      <td>Delarge, Alex</td>\n",
       "      <td>10306</td>\n",
       "      <td>0</td>\n",
       "      <td>0</td>\n",
       "      <td>1</td>\n",
       "      <td>1</td>\n",
       "      <td>6</td>\n",
       "      <td>1</td>\n",
       "      <td>0</td>\n",
       "      <td>61568</td>\n",
       "      <td>...</td>\n",
       "      <td>John Smith</td>\n",
       "      <td>17.0</td>\n",
       "      <td>Indeed</td>\n",
       "      <td>PIP</td>\n",
       "      <td>1.93</td>\n",
       "      <td>3</td>\n",
       "      <td>0</td>\n",
       "      <td>1/30/2019</td>\n",
       "      <td>6</td>\n",
       "      <td>5</td>\n",
       "    </tr>\n",
       "    <tr>\n",
       "      <th>69</th>\n",
       "      <td>Desimone, Carl</td>\n",
       "      <td>10310</td>\n",
       "      <td>1</td>\n",
       "      <td>1</td>\n",
       "      <td>1</td>\n",
       "      <td>1</td>\n",
       "      <td>5</td>\n",
       "      <td>1</td>\n",
       "      <td>0</td>\n",
       "      <td>53189</td>\n",
       "      <td>...</td>\n",
       "      <td>Amy Dunn</td>\n",
       "      <td>11.0</td>\n",
       "      <td>Indeed</td>\n",
       "      <td>PIP</td>\n",
       "      <td>1.12</td>\n",
       "      <td>2</td>\n",
       "      <td>0</td>\n",
       "      <td>1/31/2019</td>\n",
       "      <td>4</td>\n",
       "      <td>9</td>\n",
       "    </tr>\n",
       "    <tr>\n",
       "      <th>72</th>\n",
       "      <td>Dietrich, Jenna</td>\n",
       "      <td>10304</td>\n",
       "      <td>0</td>\n",
       "      <td>0</td>\n",
       "      <td>0</td>\n",
       "      <td>1</td>\n",
       "      <td>6</td>\n",
       "      <td>1</td>\n",
       "      <td>0</td>\n",
       "      <td>59231</td>\n",
       "      <td>...</td>\n",
       "      <td>John Smith</td>\n",
       "      <td>17.0</td>\n",
       "      <td>Website</td>\n",
       "      <td>PIP</td>\n",
       "      <td>2.30</td>\n",
       "      <td>1</td>\n",
       "      <td>0</td>\n",
       "      <td>1/29/2019</td>\n",
       "      <td>2</td>\n",
       "      <td>17</td>\n",
       "    </tr>\n",
       "    <tr>\n",
       "      <th>83</th>\n",
       "      <td>Erilus, Angela</td>\n",
       "      <td>10299</td>\n",
       "      <td>0</td>\n",
       "      <td>3</td>\n",
       "      <td>0</td>\n",
       "      <td>1</td>\n",
       "      <td>5</td>\n",
       "      <td>1</td>\n",
       "      <td>0</td>\n",
       "      <td>56847</td>\n",
       "      <td>...</td>\n",
       "      <td>Michael Albert</td>\n",
       "      <td>22.0</td>\n",
       "      <td>Indeed</td>\n",
       "      <td>PIP</td>\n",
       "      <td>3.00</td>\n",
       "      <td>1</td>\n",
       "      <td>0</td>\n",
       "      <td>2/25/2019</td>\n",
       "      <td>2</td>\n",
       "      <td>5</td>\n",
       "    </tr>\n",
       "    <tr>\n",
       "      <th>90</th>\n",
       "      <td>Fernandes, Nilson</td>\n",
       "      <td>10308</td>\n",
       "      <td>1</td>\n",
       "      <td>1</td>\n",
       "      <td>1</td>\n",
       "      <td>1</td>\n",
       "      <td>5</td>\n",
       "      <td>1</td>\n",
       "      <td>0</td>\n",
       "      <td>64057</td>\n",
       "      <td>...</td>\n",
       "      <td>Amy Dunn</td>\n",
       "      <td>11.0</td>\n",
       "      <td>Indeed</td>\n",
       "      <td>PIP</td>\n",
       "      <td>1.56</td>\n",
       "      <td>5</td>\n",
       "      <td>0</td>\n",
       "      <td>1/3/2019</td>\n",
       "      <td>6</td>\n",
       "      <td>15</td>\n",
       "    </tr>\n",
       "    <tr>\n",
       "      <th>91</th>\n",
       "      <td>Fett, Boba</td>\n",
       "      <td>10309</td>\n",
       "      <td>0</td>\n",
       "      <td>0</td>\n",
       "      <td>1</td>\n",
       "      <td>1</td>\n",
       "      <td>3</td>\n",
       "      <td>1</td>\n",
       "      <td>0</td>\n",
       "      <td>53366</td>\n",
       "      <td>...</td>\n",
       "      <td>Peter Monroe</td>\n",
       "      <td>7.0</td>\n",
       "      <td>LinkedIn</td>\n",
       "      <td>PIP</td>\n",
       "      <td>1.20</td>\n",
       "      <td>3</td>\n",
       "      <td>6</td>\n",
       "      <td>2/4/2019</td>\n",
       "      <td>3</td>\n",
       "      <td>2</td>\n",
       "    </tr>\n",
       "    <tr>\n",
       "      <th>95</th>\n",
       "      <td>Forrest, Alex</td>\n",
       "      <td>10305</td>\n",
       "      <td>1</td>\n",
       "      <td>1</td>\n",
       "      <td>1</td>\n",
       "      <td>1</td>\n",
       "      <td>6</td>\n",
       "      <td>3</td>\n",
       "      <td>0</td>\n",
       "      <td>70187</td>\n",
       "      <td>...</td>\n",
       "      <td>Lynn Daneault</td>\n",
       "      <td>21.0</td>\n",
       "      <td>Employee Referral</td>\n",
       "      <td>PIP</td>\n",
       "      <td>2.00</td>\n",
       "      <td>5</td>\n",
       "      <td>0</td>\n",
       "      <td>1/28/2019</td>\n",
       "      <td>4</td>\n",
       "      <td>7</td>\n",
       "    </tr>\n",
       "    <tr>\n",
       "      <th>112</th>\n",
       "      <td>Gonzalez, Juan</td>\n",
       "      <td>10300</td>\n",
       "      <td>1</td>\n",
       "      <td>1</td>\n",
       "      <td>1</td>\n",
       "      <td>5</td>\n",
       "      <td>5</td>\n",
       "      <td>1</td>\n",
       "      <td>1</td>\n",
       "      <td>68898</td>\n",
       "      <td>...</td>\n",
       "      <td>Brannon Miller</td>\n",
       "      <td>12.0</td>\n",
       "      <td>Diversity Job Fair</td>\n",
       "      <td>PIP</td>\n",
       "      <td>3.00</td>\n",
       "      <td>3</td>\n",
       "      <td>0</td>\n",
       "      <td>3/6/2011</td>\n",
       "      <td>3</td>\n",
       "      <td>10</td>\n",
       "    </tr>\n",
       "    <tr>\n",
       "      <th>188</th>\n",
       "      <td>Miller, Ned</td>\n",
       "      <td>10298</td>\n",
       "      <td>0</td>\n",
       "      <td>0</td>\n",
       "      <td>1</td>\n",
       "      <td>5</td>\n",
       "      <td>5</td>\n",
       "      <td>1</td>\n",
       "      <td>0</td>\n",
       "      <td>55800</td>\n",
       "      <td>...</td>\n",
       "      <td>Brannon Miller</td>\n",
       "      <td>12.0</td>\n",
       "      <td>LinkedIn</td>\n",
       "      <td>PIP</td>\n",
       "      <td>3.00</td>\n",
       "      <td>2</td>\n",
       "      <td>0</td>\n",
       "      <td>1/14/2013</td>\n",
       "      <td>6</td>\n",
       "      <td>6</td>\n",
       "    </tr>\n",
       "    <tr>\n",
       "      <th>205</th>\n",
       "      <td>O'hare, Lynn</td>\n",
       "      <td>10303</td>\n",
       "      <td>0</td>\n",
       "      <td>0</td>\n",
       "      <td>0</td>\n",
       "      <td>4</td>\n",
       "      <td>5</td>\n",
       "      <td>1</td>\n",
       "      <td>0</td>\n",
       "      <td>52674</td>\n",
       "      <td>...</td>\n",
       "      <td>Kissy Sullivan</td>\n",
       "      <td>20.0</td>\n",
       "      <td>LinkedIn</td>\n",
       "      <td>PIP</td>\n",
       "      <td>2.33</td>\n",
       "      <td>2</td>\n",
       "      <td>0</td>\n",
       "      <td>3/9/2018</td>\n",
       "      <td>6</td>\n",
       "      <td>3</td>\n",
       "    </tr>\n",
       "    <tr>\n",
       "      <th>263</th>\n",
       "      <td>Sparks, Taylor</td>\n",
       "      <td>10302</td>\n",
       "      <td>1</td>\n",
       "      <td>1</td>\n",
       "      <td>0</td>\n",
       "      <td>1</td>\n",
       "      <td>5</td>\n",
       "      <td>1</td>\n",
       "      <td>0</td>\n",
       "      <td>64021</td>\n",
       "      <td>...</td>\n",
       "      <td>Brannon Miller</td>\n",
       "      <td>12.0</td>\n",
       "      <td>Indeed</td>\n",
       "      <td>PIP</td>\n",
       "      <td>2.40</td>\n",
       "      <td>2</td>\n",
       "      <td>1</td>\n",
       "      <td>2/25/2019</td>\n",
       "      <td>6</td>\n",
       "      <td>20</td>\n",
       "    </tr>\n",
       "    <tr>\n",
       "      <th>267</th>\n",
       "      <td>Stansfield, Norman</td>\n",
       "      <td>10307</td>\n",
       "      <td>1</td>\n",
       "      <td>1</td>\n",
       "      <td>1</td>\n",
       "      <td>1</td>\n",
       "      <td>6</td>\n",
       "      <td>1</td>\n",
       "      <td>0</td>\n",
       "      <td>58273</td>\n",
       "      <td>...</td>\n",
       "      <td>Lynn Daneault</td>\n",
       "      <td>21.0</td>\n",
       "      <td>Website</td>\n",
       "      <td>PIP</td>\n",
       "      <td>1.81</td>\n",
       "      <td>2</td>\n",
       "      <td>0</td>\n",
       "      <td>1/17/2019</td>\n",
       "      <td>3</td>\n",
       "      <td>5</td>\n",
       "    </tr>\n",
       "    <tr>\n",
       "      <th>307</th>\n",
       "      <td>Ybarra, Catherine</td>\n",
       "      <td>10301</td>\n",
       "      <td>0</td>\n",
       "      <td>0</td>\n",
       "      <td>0</td>\n",
       "      <td>5</td>\n",
       "      <td>5</td>\n",
       "      <td>1</td>\n",
       "      <td>0</td>\n",
       "      <td>48513</td>\n",
       "      <td>...</td>\n",
       "      <td>Brannon Miller</td>\n",
       "      <td>12.0</td>\n",
       "      <td>Google Search</td>\n",
       "      <td>PIP</td>\n",
       "      <td>3.20</td>\n",
       "      <td>2</td>\n",
       "      <td>0</td>\n",
       "      <td>9/2/2015</td>\n",
       "      <td>5</td>\n",
       "      <td>4</td>\n",
       "    </tr>\n",
       "  </tbody>\n",
       "</table>\n",
       "<p>13 rows × 36 columns</p>\n",
       "</div>"
      ],
      "text/plain": [
       "           Employee_Name  EmpID  MarriedID  MaritalStatusID  GenderID  \\\n",
       "67         Delarge, Alex  10306          0                0         1   \n",
       "69       Desimone, Carl   10310          1                1         1   \n",
       "72     Dietrich, Jenna    10304          0                0         0   \n",
       "83        Erilus, Angela  10299          0                3         0   \n",
       "90   Fernandes, Nilson    10308          1                1         1   \n",
       "91            Fett, Boba  10309          0                0         1   \n",
       "95         Forrest, Alex  10305          1                1         1   \n",
       "112       Gonzalez, Juan  10300          1                1         1   \n",
       "188          Miller, Ned  10298          0                0         1   \n",
       "205         O'hare, Lynn  10303          0                0         0   \n",
       "263     Sparks, Taylor    10302          1                1         0   \n",
       "267   Stansfield, Norman  10307          1                1         1   \n",
       "307   Ybarra, Catherine   10301          0                0         0   \n",
       "\n",
       "     EmpStatusID  DeptID  PerfScoreID  FromDiversityJobFairID  Salary  ...  \\\n",
       "67             1       6            1                       0   61568  ...   \n",
       "69             1       5            1                       0   53189  ...   \n",
       "72             1       6            1                       0   59231  ...   \n",
       "83             1       5            1                       0   56847  ...   \n",
       "90             1       5            1                       0   64057  ...   \n",
       "91             1       3            1                       0   53366  ...   \n",
       "95             1       6            3                       0   70187  ...   \n",
       "112            5       5            1                       1   68898  ...   \n",
       "188            5       5            1                       0   55800  ...   \n",
       "205            4       5            1                       0   52674  ...   \n",
       "263            1       5            1                       0   64021  ...   \n",
       "267            1       6            1                       0   58273  ...   \n",
       "307            5       5            1                       0   48513  ...   \n",
       "\n",
       "        ManagerName  ManagerID   RecruitmentSource PerformanceScore  \\\n",
       "67       John Smith       17.0              Indeed              PIP   \n",
       "69         Amy Dunn       11.0              Indeed              PIP   \n",
       "72       John Smith       17.0             Website              PIP   \n",
       "83   Michael Albert       22.0              Indeed              PIP   \n",
       "90         Amy Dunn       11.0              Indeed              PIP   \n",
       "91     Peter Monroe        7.0            LinkedIn              PIP   \n",
       "95    Lynn Daneault       21.0   Employee Referral              PIP   \n",
       "112  Brannon Miller       12.0  Diversity Job Fair              PIP   \n",
       "188  Brannon Miller       12.0            LinkedIn              PIP   \n",
       "205  Kissy Sullivan       20.0            LinkedIn              PIP   \n",
       "263  Brannon Miller       12.0              Indeed              PIP   \n",
       "267   Lynn Daneault       21.0             Website              PIP   \n",
       "307  Brannon Miller       12.0       Google Search              PIP   \n",
       "\n",
       "     EngagementSurvey EmpSatisfaction SpecialProjectsCount  \\\n",
       "67               1.93               3                    0   \n",
       "69               1.12               2                    0   \n",
       "72               2.30               1                    0   \n",
       "83               3.00               1                    0   \n",
       "90               1.56               5                    0   \n",
       "91               1.20               3                    6   \n",
       "95               2.00               5                    0   \n",
       "112              3.00               3                    0   \n",
       "188              3.00               2                    0   \n",
       "205              2.33               2                    0   \n",
       "263              2.40               2                    1   \n",
       "267              1.81               2                    0   \n",
       "307              3.20               2                    0   \n",
       "\n",
       "    LastPerformanceReview_Date DaysLateLast30 Absences  \n",
       "67                   1/30/2019              6        5  \n",
       "69                   1/31/2019              4        9  \n",
       "72                   1/29/2019              2       17  \n",
       "83                   2/25/2019              2        5  \n",
       "90                    1/3/2019              6       15  \n",
       "91                    2/4/2019              3        2  \n",
       "95                   1/28/2019              4        7  \n",
       "112                   3/6/2011              3       10  \n",
       "188                  1/14/2013              6        6  \n",
       "205                   3/9/2018              6        3  \n",
       "263                  2/25/2019              6       20  \n",
       "267                  1/17/2019              3        5  \n",
       "307                   9/2/2015              5        4  \n",
       "\n",
       "[13 rows x 36 columns]"
      ]
     },
     "execution_count": 35,
     "metadata": {},
     "output_type": "execute_result"
    }
   ],
   "source": [
    "df[df.PerformanceScore== 'PIP']"
   ]
  },
  {
   "cell_type": "code",
   "execution_count": 39,
   "id": "2a00fda0-e759-41a8-b0cc-834893f601c8",
   "metadata": {},
   "outputs": [
    {
     "data": {
      "text/plain": [
       "13"
      ]
     },
     "execution_count": 39,
     "metadata": {},
     "output_type": "execute_result"
    }
   ],
   "source": [
    "len(df[df.PerformanceScore== 'PIP'].Employee_Name)"
   ]
  },
  {
   "cell_type": "code",
   "execution_count": 40,
   "id": "4cefb559-02be-45d0-bdc9-91f3153fdad5",
   "metadata": {},
   "outputs": [],
   "source": [
    "## No of absences "
   ]
  },
  {
   "cell_type": "code",
   "execution_count": 42,
   "id": "ddcaf284-456b-4436-bbff-1c871a900357",
   "metadata": {},
   "outputs": [
    {
     "data": {
      "text/plain": [
       "Absences\n",
       "4     23\n",
       "16    23\n",
       "7     21\n",
       "2     21\n",
       "15    20\n",
       "14    17\n",
       "13    17\n",
       "3     16\n",
       "19    16\n",
       "6     16\n",
       "11    15\n",
       "17    15\n",
       "1     14\n",
       "9     14\n",
       "20    14\n",
       "5     12\n",
       "8     11\n",
       "10    10\n",
       "12     8\n",
       "18     8\n",
       "Name: count, dtype: int64"
      ]
     },
     "execution_count": 42,
     "metadata": {},
     "output_type": "execute_result"
    }
   ],
   "source": [
    "df.Absences.value_counts()"
   ]
  },
  {
   "cell_type": "code",
   "execution_count": 44,
   "id": "fe33b366-c533-469d-b4e7-14be3b2eb6c2",
   "metadata": {},
   "outputs": [
    {
     "data": {
      "text/plain": [
       "Absences\n",
       "4     7.395498\n",
       "16    7.395498\n",
       "7     6.752412\n",
       "2     6.752412\n",
       "15    6.430868\n",
       "14    5.466238\n",
       "13    5.466238\n",
       "3     5.144695\n",
       "19    5.144695\n",
       "6     5.144695\n",
       "11    4.823151\n",
       "17    4.823151\n",
       "1     4.501608\n",
       "9     4.501608\n",
       "20    4.501608\n",
       "5     3.858521\n",
       "8     3.536977\n",
       "10    3.215434\n",
       "12    2.572347\n",
       "18    2.572347\n",
       "Name: proportion, dtype: float64"
      ]
     },
     "execution_count": 44,
     "metadata": {},
     "output_type": "execute_result"
    }
   ],
   "source": [
    "df.Absences.value_counts(normalize = True)*100"
   ]
  },
  {
   "cell_type": "code",
   "execution_count": 47,
   "id": "1aab8273-e747-401c-b236-b9b7127be24d",
   "metadata": {},
   "outputs": [],
   "source": [
    "## highest number of leaves taken is 20  by 4.5 percent of employee"
   ]
  },
  {
   "cell_type": "code",
   "execution_count": 46,
   "id": "5ff22a89-c290-49d6-ab20-1b1dcf50a910",
   "metadata": {},
   "outputs": [
    {
     "data": {
      "text/plain": [
       "MarriedID\n",
       "0    187\n",
       "1    124\n",
       "Name: count, dtype: int64"
      ]
     },
     "execution_count": 46,
     "metadata": {},
     "output_type": "execute_result"
    }
   ],
   "source": [
    "## wether employess are marrried or not\n",
    "df['MarriedID'].value_counts()"
   ]
  },
  {
   "cell_type": "code",
   "execution_count": 48,
   "id": "01d783fa-836e-471e-a7e7-215ba71b81ae",
   "metadata": {},
   "outputs": [],
   "source": [
    "## insights >> 187 emp are married"
   ]
  },
  {
   "cell_type": "code",
   "execution_count": 49,
   "id": "6238896b-fac3-44a0-bf36-a5765cef3847",
   "metadata": {},
   "outputs": [
    {
     "data": {
      "text/plain": [
       "Index(['Employee_Name', 'EmpID', 'MarriedID', 'MaritalStatusID', 'GenderID',\n",
       "       'EmpStatusID', 'DeptID', 'PerfScoreID', 'FromDiversityJobFairID',\n",
       "       'Salary', 'Termd', 'PositionID', 'Position', 'State', 'Zip', 'DOB',\n",
       "       'Sex', 'MaritalDesc', 'CitizenDesc', 'HispanicLatino', 'RaceDesc',\n",
       "       'DateofHire', 'DateofTermination', 'TermReason', 'EmploymentStatus',\n",
       "       'Department', 'ManagerName', 'ManagerID', 'RecruitmentSource',\n",
       "       'PerformanceScore', 'EngagementSurvey', 'EmpSatisfaction',\n",
       "       'SpecialProjectsCount', 'LastPerformanceReview_Date', 'DaysLateLast30',\n",
       "       'Absences'],\n",
       "      dtype='object')"
      ]
     },
     "execution_count": 49,
     "metadata": {},
     "output_type": "execute_result"
    }
   ],
   "source": [
    "df.columns"
   ]
  },
  {
   "cell_type": "code",
   "execution_count": 51,
   "id": "5d7ef7f6-d146-443c-8a9f-5a08b6138a4c",
   "metadata": {},
   "outputs": [
    {
     "data": {
      "text/html": [
       "<div>\n",
       "<style scoped>\n",
       "    .dataframe tbody tr th:only-of-type {\n",
       "        vertical-align: middle;\n",
       "    }\n",
       "\n",
       "    .dataframe tbody tr th {\n",
       "        vertical-align: top;\n",
       "    }\n",
       "\n",
       "    .dataframe thead th {\n",
       "        text-align: right;\n",
       "    }\n",
       "</style>\n",
       "<table border=\"1\" class=\"dataframe\">\n",
       "  <thead>\n",
       "    <tr style=\"text-align: right;\">\n",
       "      <th></th>\n",
       "      <th>Employee_Name</th>\n",
       "      <th>EmpID</th>\n",
       "      <th>MarriedID</th>\n",
       "      <th>MaritalStatusID</th>\n",
       "      <th>GenderID</th>\n",
       "      <th>EmpStatusID</th>\n",
       "      <th>DeptID</th>\n",
       "      <th>PerfScoreID</th>\n",
       "      <th>FromDiversityJobFairID</th>\n",
       "      <th>Salary</th>\n",
       "      <th>...</th>\n",
       "      <th>ManagerName</th>\n",
       "      <th>ManagerID</th>\n",
       "      <th>RecruitmentSource</th>\n",
       "      <th>PerformanceScore</th>\n",
       "      <th>EngagementSurvey</th>\n",
       "      <th>EmpSatisfaction</th>\n",
       "      <th>SpecialProjectsCount</th>\n",
       "      <th>LastPerformanceReview_Date</th>\n",
       "      <th>DaysLateLast30</th>\n",
       "      <th>Absences</th>\n",
       "    </tr>\n",
       "  </thead>\n",
       "  <tbody>\n",
       "    <tr>\n",
       "      <th>1</th>\n",
       "      <td>Ait Sidi, Karthikeyan</td>\n",
       "      <td>10084</td>\n",
       "      <td>1</td>\n",
       "      <td>1</td>\n",
       "      <td>1</td>\n",
       "      <td>5</td>\n",
       "      <td>3</td>\n",
       "      <td>3</td>\n",
       "      <td>0</td>\n",
       "      <td>104437</td>\n",
       "      <td>...</td>\n",
       "      <td>Simon Roup</td>\n",
       "      <td>4.0</td>\n",
       "      <td>Indeed</td>\n",
       "      <td>Fully Meets</td>\n",
       "      <td>4.96</td>\n",
       "      <td>3</td>\n",
       "      <td>6</td>\n",
       "      <td>2/24/2016</td>\n",
       "      <td>0</td>\n",
       "      <td>17</td>\n",
       "    </tr>\n",
       "    <tr>\n",
       "      <th>6</th>\n",
       "      <td>Andreola, Colby</td>\n",
       "      <td>10194</td>\n",
       "      <td>0</td>\n",
       "      <td>0</td>\n",
       "      <td>0</td>\n",
       "      <td>1</td>\n",
       "      <td>4</td>\n",
       "      <td>3</td>\n",
       "      <td>0</td>\n",
       "      <td>95660</td>\n",
       "      <td>...</td>\n",
       "      <td>Alex Sweetwater</td>\n",
       "      <td>10.0</td>\n",
       "      <td>LinkedIn</td>\n",
       "      <td>Fully Meets</td>\n",
       "      <td>3.04</td>\n",
       "      <td>3</td>\n",
       "      <td>4</td>\n",
       "      <td>1/2/2019</td>\n",
       "      <td>0</td>\n",
       "      <td>19</td>\n",
       "    </tr>\n",
       "    <tr>\n",
       "      <th>9</th>\n",
       "      <td>Bacong, Alejandro</td>\n",
       "      <td>10250</td>\n",
       "      <td>0</td>\n",
       "      <td>2</td>\n",
       "      <td>1</td>\n",
       "      <td>1</td>\n",
       "      <td>3</td>\n",
       "      <td>3</td>\n",
       "      <td>0</td>\n",
       "      <td>50178</td>\n",
       "      <td>...</td>\n",
       "      <td>Peter Monroe</td>\n",
       "      <td>7.0</td>\n",
       "      <td>Indeed</td>\n",
       "      <td>Fully Meets</td>\n",
       "      <td>5.00</td>\n",
       "      <td>5</td>\n",
       "      <td>6</td>\n",
       "      <td>2/18/2019</td>\n",
       "      <td>0</td>\n",
       "      <td>16</td>\n",
       "    </tr>\n",
       "    <tr>\n",
       "      <th>12</th>\n",
       "      <td>Barbossa, Hector</td>\n",
       "      <td>10012</td>\n",
       "      <td>0</td>\n",
       "      <td>2</td>\n",
       "      <td>1</td>\n",
       "      <td>1</td>\n",
       "      <td>3</td>\n",
       "      <td>4</td>\n",
       "      <td>1</td>\n",
       "      <td>92328</td>\n",
       "      <td>...</td>\n",
       "      <td>Simon Roup</td>\n",
       "      <td>4.0</td>\n",
       "      <td>Diversity Job Fair</td>\n",
       "      <td>Exceeds</td>\n",
       "      <td>4.28</td>\n",
       "      <td>4</td>\n",
       "      <td>5</td>\n",
       "      <td>2/25/2019</td>\n",
       "      <td>0</td>\n",
       "      <td>9</td>\n",
       "    </tr>\n",
       "    <tr>\n",
       "      <th>18</th>\n",
       "      <td>Becker, Renee</td>\n",
       "      <td>10245</td>\n",
       "      <td>0</td>\n",
       "      <td>0</td>\n",
       "      <td>0</td>\n",
       "      <td>4</td>\n",
       "      <td>3</td>\n",
       "      <td>3</td>\n",
       "      <td>0</td>\n",
       "      <td>110000</td>\n",
       "      <td>...</td>\n",
       "      <td>Simon Roup</td>\n",
       "      <td>4.0</td>\n",
       "      <td>Google Search</td>\n",
       "      <td>Fully Meets</td>\n",
       "      <td>4.50</td>\n",
       "      <td>4</td>\n",
       "      <td>5</td>\n",
       "      <td>1/15/2015</td>\n",
       "      <td>0</td>\n",
       "      <td>8</td>\n",
       "    </tr>\n",
       "    <tr>\n",
       "      <th>...</th>\n",
       "      <td>...</td>\n",
       "      <td>...</td>\n",
       "      <td>...</td>\n",
       "      <td>...</td>\n",
       "      <td>...</td>\n",
       "      <td>...</td>\n",
       "      <td>...</td>\n",
       "      <td>...</td>\n",
       "      <td>...</td>\n",
       "      <td>...</td>\n",
       "      <td>...</td>\n",
       "      <td>...</td>\n",
       "      <td>...</td>\n",
       "      <td>...</td>\n",
       "      <td>...</td>\n",
       "      <td>...</td>\n",
       "      <td>...</td>\n",
       "      <td>...</td>\n",
       "      <td>...</td>\n",
       "      <td>...</td>\n",
       "      <td>...</td>\n",
       "    </tr>\n",
       "    <tr>\n",
       "      <th>292</th>\n",
       "      <td>Voldemort, Lord</td>\n",
       "      <td>10118</td>\n",
       "      <td>1</td>\n",
       "      <td>1</td>\n",
       "      <td>1</td>\n",
       "      <td>4</td>\n",
       "      <td>3</td>\n",
       "      <td>3</td>\n",
       "      <td>0</td>\n",
       "      <td>113999</td>\n",
       "      <td>...</td>\n",
       "      <td>Simon Roup</td>\n",
       "      <td>4.0</td>\n",
       "      <td>Employee Referral</td>\n",
       "      <td>Fully Meets</td>\n",
       "      <td>4.33</td>\n",
       "      <td>3</td>\n",
       "      <td>7</td>\n",
       "      <td>2/15/2017</td>\n",
       "      <td>0</td>\n",
       "      <td>9</td>\n",
       "    </tr>\n",
       "    <tr>\n",
       "      <th>298</th>\n",
       "      <td>Wang, Charlie</td>\n",
       "      <td>10172</td>\n",
       "      <td>0</td>\n",
       "      <td>0</td>\n",
       "      <td>1</td>\n",
       "      <td>1</td>\n",
       "      <td>3</td>\n",
       "      <td>3</td>\n",
       "      <td>0</td>\n",
       "      <td>84903</td>\n",
       "      <td>...</td>\n",
       "      <td>Brian Champaigne</td>\n",
       "      <td>13.0</td>\n",
       "      <td>Indeed</td>\n",
       "      <td>Fully Meets</td>\n",
       "      <td>3.42</td>\n",
       "      <td>4</td>\n",
       "      <td>7</td>\n",
       "      <td>1/4/2019</td>\n",
       "      <td>0</td>\n",
       "      <td>17</td>\n",
       "    </tr>\n",
       "    <tr>\n",
       "      <th>299</th>\n",
       "      <td>Warfield, Sarah</td>\n",
       "      <td>10127</td>\n",
       "      <td>0</td>\n",
       "      <td>4</td>\n",
       "      <td>0</td>\n",
       "      <td>1</td>\n",
       "      <td>3</td>\n",
       "      <td>3</td>\n",
       "      <td>0</td>\n",
       "      <td>107226</td>\n",
       "      <td>...</td>\n",
       "      <td>Peter Monroe</td>\n",
       "      <td>7.0</td>\n",
       "      <td>Employee Referral</td>\n",
       "      <td>Fully Meets</td>\n",
       "      <td>4.20</td>\n",
       "      <td>4</td>\n",
       "      <td>8</td>\n",
       "      <td>2/5/2019</td>\n",
       "      <td>0</td>\n",
       "      <td>7</td>\n",
       "    </tr>\n",
       "    <tr>\n",
       "      <th>308</th>\n",
       "      <td>Zamora, Jennifer</td>\n",
       "      <td>10010</td>\n",
       "      <td>0</td>\n",
       "      <td>0</td>\n",
       "      <td>0</td>\n",
       "      <td>1</td>\n",
       "      <td>3</td>\n",
       "      <td>4</td>\n",
       "      <td>0</td>\n",
       "      <td>220450</td>\n",
       "      <td>...</td>\n",
       "      <td>Janet King</td>\n",
       "      <td>2.0</td>\n",
       "      <td>Employee Referral</td>\n",
       "      <td>Exceeds</td>\n",
       "      <td>4.60</td>\n",
       "      <td>5</td>\n",
       "      <td>6</td>\n",
       "      <td>2/21/2019</td>\n",
       "      <td>0</td>\n",
       "      <td>16</td>\n",
       "    </tr>\n",
       "    <tr>\n",
       "      <th>309</th>\n",
       "      <td>Zhou, Julia</td>\n",
       "      <td>10043</td>\n",
       "      <td>0</td>\n",
       "      <td>0</td>\n",
       "      <td>0</td>\n",
       "      <td>1</td>\n",
       "      <td>3</td>\n",
       "      <td>3</td>\n",
       "      <td>0</td>\n",
       "      <td>89292</td>\n",
       "      <td>...</td>\n",
       "      <td>Simon Roup</td>\n",
       "      <td>4.0</td>\n",
       "      <td>Employee Referral</td>\n",
       "      <td>Fully Meets</td>\n",
       "      <td>5.00</td>\n",
       "      <td>3</td>\n",
       "      <td>5</td>\n",
       "      <td>2/1/2019</td>\n",
       "      <td>0</td>\n",
       "      <td>11</td>\n",
       "    </tr>\n",
       "  </tbody>\n",
       "</table>\n",
       "<p>70 rows × 36 columns</p>\n",
       "</div>"
      ],
      "text/plain": [
       "                Employee_Name  EmpID  MarriedID  MaritalStatusID  GenderID  \\\n",
       "1    Ait Sidi, Karthikeyan     10084          1                1         1   \n",
       "6             Andreola, Colby  10194          0                0         0   \n",
       "9          Bacong, Alejandro   10250          0                2         1   \n",
       "12           Barbossa, Hector  10012          0                2         1   \n",
       "18              Becker, Renee  10245          0                0         0   \n",
       "..                        ...    ...        ...              ...       ...   \n",
       "292           Voldemort, Lord  10118          1                1         1   \n",
       "298             Wang, Charlie  10172          0                0         1   \n",
       "299           Warfield, Sarah  10127          0                4         0   \n",
       "308          Zamora, Jennifer  10010          0                0         0   \n",
       "309               Zhou, Julia  10043          0                0         0   \n",
       "\n",
       "     EmpStatusID  DeptID  PerfScoreID  FromDiversityJobFairID  Salary  ...  \\\n",
       "1              5       3            3                       0  104437  ...   \n",
       "6              1       4            3                       0   95660  ...   \n",
       "9              1       3            3                       0   50178  ...   \n",
       "12             1       3            4                       1   92328  ...   \n",
       "18             4       3            3                       0  110000  ...   \n",
       "..           ...     ...          ...                     ...     ...  ...   \n",
       "292            4       3            3                       0  113999  ...   \n",
       "298            1       3            3                       0   84903  ...   \n",
       "299            1       3            3                       0  107226  ...   \n",
       "308            1       3            4                       0  220450  ...   \n",
       "309            1       3            3                       0   89292  ...   \n",
       "\n",
       "          ManagerName  ManagerID   RecruitmentSource PerformanceScore  \\\n",
       "1          Simon Roup        4.0              Indeed      Fully Meets   \n",
       "6     Alex Sweetwater       10.0            LinkedIn      Fully Meets   \n",
       "9        Peter Monroe        7.0              Indeed      Fully Meets   \n",
       "12         Simon Roup        4.0  Diversity Job Fair          Exceeds   \n",
       "18         Simon Roup        4.0       Google Search      Fully Meets   \n",
       "..                ...        ...                 ...              ...   \n",
       "292        Simon Roup        4.0   Employee Referral      Fully Meets   \n",
       "298  Brian Champaigne       13.0              Indeed      Fully Meets   \n",
       "299      Peter Monroe        7.0   Employee Referral      Fully Meets   \n",
       "308        Janet King        2.0   Employee Referral          Exceeds   \n",
       "309        Simon Roup        4.0   Employee Referral      Fully Meets   \n",
       "\n",
       "     EngagementSurvey EmpSatisfaction SpecialProjectsCount  \\\n",
       "1                4.96               3                    6   \n",
       "6                3.04               3                    4   \n",
       "9                5.00               5                    6   \n",
       "12               4.28               4                    5   \n",
       "18               4.50               4                    5   \n",
       "..                ...             ...                  ...   \n",
       "292              4.33               3                    7   \n",
       "298              3.42               4                    7   \n",
       "299              4.20               4                    8   \n",
       "308              4.60               5                    6   \n",
       "309              5.00               3                    5   \n",
       "\n",
       "    LastPerformanceReview_Date DaysLateLast30 Absences  \n",
       "1                    2/24/2016              0       17  \n",
       "6                     1/2/2019              0       19  \n",
       "9                    2/18/2019              0       16  \n",
       "12                   2/25/2019              0        9  \n",
       "18                   1/15/2015              0        8  \n",
       "..                         ...            ...      ...  \n",
       "292                  2/15/2017              0        9  \n",
       "298                   1/4/2019              0       17  \n",
       "299                   2/5/2019              0        7  \n",
       "308                  2/21/2019              0       16  \n",
       "309                   2/1/2019              0       11  \n",
       "\n",
       "[70 rows x 36 columns]"
      ]
     },
     "execution_count": 51,
     "metadata": {},
     "output_type": "execute_result"
    }
   ],
   "source": [
    "df[df['SpecialProjectsCount'] != 0]"
   ]
  },
  {
   "cell_type": "code",
   "execution_count": 52,
   "id": "259c8ab1-8788-4838-b4a6-d6b883aca0e4",
   "metadata": {},
   "outputs": [],
   "source": [
    "## 70 employess doesnot have any special project"
   ]
  },
  {
   "cell_type": "code",
   "execution_count": 55,
   "id": "66a97184-2f7f-4207-98cf-79fad3e5b691",
   "metadata": {},
   "outputs": [
    {
     "data": {
      "text/plain": [
       "299    8\n",
       "61     8\n",
       "254    7\n",
       "162    7\n",
       "70     7\n",
       "      ..\n",
       "8      0\n",
       "267    0\n",
       "266    0\n",
       "265    0\n",
       "20     0\n",
       "Name: SpecialProjectsCount, Length: 311, dtype: int64"
      ]
     },
     "execution_count": 55,
     "metadata": {},
     "output_type": "execute_result"
    }
   ],
   "source": [
    "df['SpecialProjectsCount'].sort_values(ascending = False) "
   ]
  },
  {
   "cell_type": "code",
   "execution_count": 56,
   "id": "24bdfef9-a442-4634-abf9-87bc125820ce",
   "metadata": {},
   "outputs": [
    {
     "data": {
      "text/html": [
       "<div>\n",
       "<style scoped>\n",
       "    .dataframe tbody tr th:only-of-type {\n",
       "        vertical-align: middle;\n",
       "    }\n",
       "\n",
       "    .dataframe tbody tr th {\n",
       "        vertical-align: top;\n",
       "    }\n",
       "\n",
       "    .dataframe thead th {\n",
       "        text-align: right;\n",
       "    }\n",
       "</style>\n",
       "<table border=\"1\" class=\"dataframe\">\n",
       "  <thead>\n",
       "    <tr style=\"text-align: right;\">\n",
       "      <th></th>\n",
       "      <th>Employee_Name</th>\n",
       "      <th>EmpID</th>\n",
       "      <th>MarriedID</th>\n",
       "      <th>MaritalStatusID</th>\n",
       "      <th>GenderID</th>\n",
       "      <th>EmpStatusID</th>\n",
       "      <th>DeptID</th>\n",
       "      <th>PerfScoreID</th>\n",
       "      <th>FromDiversityJobFairID</th>\n",
       "      <th>Salary</th>\n",
       "      <th>...</th>\n",
       "      <th>ManagerName</th>\n",
       "      <th>ManagerID</th>\n",
       "      <th>RecruitmentSource</th>\n",
       "      <th>PerformanceScore</th>\n",
       "      <th>EngagementSurvey</th>\n",
       "      <th>EmpSatisfaction</th>\n",
       "      <th>SpecialProjectsCount</th>\n",
       "      <th>LastPerformanceReview_Date</th>\n",
       "      <th>DaysLateLast30</th>\n",
       "      <th>Absences</th>\n",
       "    </tr>\n",
       "  </thead>\n",
       "  <tbody>\n",
       "    <tr>\n",
       "      <th>0</th>\n",
       "      <td>Adinolfi, Wilson  K</td>\n",
       "      <td>10026</td>\n",
       "      <td>0</td>\n",
       "      <td>0</td>\n",
       "      <td>1</td>\n",
       "      <td>1</td>\n",
       "      <td>5</td>\n",
       "      <td>4</td>\n",
       "      <td>0</td>\n",
       "      <td>62506</td>\n",
       "      <td>...</td>\n",
       "      <td>Michael Albert</td>\n",
       "      <td>22.0</td>\n",
       "      <td>LinkedIn</td>\n",
       "      <td>Exceeds</td>\n",
       "      <td>4.60</td>\n",
       "      <td>5</td>\n",
       "      <td>0</td>\n",
       "      <td>1/17/2019</td>\n",
       "      <td>0</td>\n",
       "      <td>1</td>\n",
       "    </tr>\n",
       "    <tr>\n",
       "      <th>2</th>\n",
       "      <td>Akinkuolie, Sarah</td>\n",
       "      <td>10196</td>\n",
       "      <td>1</td>\n",
       "      <td>1</td>\n",
       "      <td>0</td>\n",
       "      <td>5</td>\n",
       "      <td>5</td>\n",
       "      <td>3</td>\n",
       "      <td>0</td>\n",
       "      <td>64955</td>\n",
       "      <td>...</td>\n",
       "      <td>Kissy Sullivan</td>\n",
       "      <td>20.0</td>\n",
       "      <td>LinkedIn</td>\n",
       "      <td>Fully Meets</td>\n",
       "      <td>3.02</td>\n",
       "      <td>3</td>\n",
       "      <td>0</td>\n",
       "      <td>5/15/2012</td>\n",
       "      <td>0</td>\n",
       "      <td>3</td>\n",
       "    </tr>\n",
       "    <tr>\n",
       "      <th>3</th>\n",
       "      <td>Alagbe,Trina</td>\n",
       "      <td>10088</td>\n",
       "      <td>1</td>\n",
       "      <td>1</td>\n",
       "      <td>0</td>\n",
       "      <td>1</td>\n",
       "      <td>5</td>\n",
       "      <td>3</td>\n",
       "      <td>0</td>\n",
       "      <td>64991</td>\n",
       "      <td>...</td>\n",
       "      <td>Elijiah Gray</td>\n",
       "      <td>16.0</td>\n",
       "      <td>Indeed</td>\n",
       "      <td>Fully Meets</td>\n",
       "      <td>4.84</td>\n",
       "      <td>5</td>\n",
       "      <td>0</td>\n",
       "      <td>1/3/2019</td>\n",
       "      <td>0</td>\n",
       "      <td>15</td>\n",
       "    </tr>\n",
       "    <tr>\n",
       "      <th>4</th>\n",
       "      <td>Anderson, Carol</td>\n",
       "      <td>10069</td>\n",
       "      <td>0</td>\n",
       "      <td>2</td>\n",
       "      <td>0</td>\n",
       "      <td>5</td>\n",
       "      <td>5</td>\n",
       "      <td>3</td>\n",
       "      <td>0</td>\n",
       "      <td>50825</td>\n",
       "      <td>...</td>\n",
       "      <td>Webster Butler</td>\n",
       "      <td>39.0</td>\n",
       "      <td>Google Search</td>\n",
       "      <td>Fully Meets</td>\n",
       "      <td>5.00</td>\n",
       "      <td>4</td>\n",
       "      <td>0</td>\n",
       "      <td>2/1/2016</td>\n",
       "      <td>0</td>\n",
       "      <td>2</td>\n",
       "    </tr>\n",
       "    <tr>\n",
       "      <th>5</th>\n",
       "      <td>Anderson, Linda</td>\n",
       "      <td>10002</td>\n",
       "      <td>0</td>\n",
       "      <td>0</td>\n",
       "      <td>0</td>\n",
       "      <td>1</td>\n",
       "      <td>5</td>\n",
       "      <td>4</td>\n",
       "      <td>0</td>\n",
       "      <td>57568</td>\n",
       "      <td>...</td>\n",
       "      <td>Amy Dunn</td>\n",
       "      <td>11.0</td>\n",
       "      <td>LinkedIn</td>\n",
       "      <td>Exceeds</td>\n",
       "      <td>5.00</td>\n",
       "      <td>5</td>\n",
       "      <td>0</td>\n",
       "      <td>1/7/2019</td>\n",
       "      <td>0</td>\n",
       "      <td>15</td>\n",
       "    </tr>\n",
       "    <tr>\n",
       "      <th>...</th>\n",
       "      <td>...</td>\n",
       "      <td>...</td>\n",
       "      <td>...</td>\n",
       "      <td>...</td>\n",
       "      <td>...</td>\n",
       "      <td>...</td>\n",
       "      <td>...</td>\n",
       "      <td>...</td>\n",
       "      <td>...</td>\n",
       "      <td>...</td>\n",
       "      <td>...</td>\n",
       "      <td>...</td>\n",
       "      <td>...</td>\n",
       "      <td>...</td>\n",
       "      <td>...</td>\n",
       "      <td>...</td>\n",
       "      <td>...</td>\n",
       "      <td>...</td>\n",
       "      <td>...</td>\n",
       "      <td>...</td>\n",
       "      <td>...</td>\n",
       "    </tr>\n",
       "    <tr>\n",
       "      <th>304</th>\n",
       "      <td>Winthrop, Jordan</td>\n",
       "      <td>10033</td>\n",
       "      <td>0</td>\n",
       "      <td>0</td>\n",
       "      <td>1</td>\n",
       "      <td>5</td>\n",
       "      <td>5</td>\n",
       "      <td>4</td>\n",
       "      <td>0</td>\n",
       "      <td>70507</td>\n",
       "      <td>...</td>\n",
       "      <td>Brannon Miller</td>\n",
       "      <td>12.0</td>\n",
       "      <td>LinkedIn</td>\n",
       "      <td>Exceeds</td>\n",
       "      <td>5.00</td>\n",
       "      <td>3</td>\n",
       "      <td>0</td>\n",
       "      <td>1/19/2016</td>\n",
       "      <td>0</td>\n",
       "      <td>7</td>\n",
       "    </tr>\n",
       "    <tr>\n",
       "      <th>305</th>\n",
       "      <td>Wolk, Hang  T</td>\n",
       "      <td>10174</td>\n",
       "      <td>0</td>\n",
       "      <td>0</td>\n",
       "      <td>0</td>\n",
       "      <td>1</td>\n",
       "      <td>5</td>\n",
       "      <td>3</td>\n",
       "      <td>0</td>\n",
       "      <td>60446</td>\n",
       "      <td>...</td>\n",
       "      <td>David Stanley</td>\n",
       "      <td>14.0</td>\n",
       "      <td>LinkedIn</td>\n",
       "      <td>Fully Meets</td>\n",
       "      <td>3.40</td>\n",
       "      <td>4</td>\n",
       "      <td>0</td>\n",
       "      <td>2/21/2019</td>\n",
       "      <td>0</td>\n",
       "      <td>14</td>\n",
       "    </tr>\n",
       "    <tr>\n",
       "      <th>306</th>\n",
       "      <td>Woodson, Jason</td>\n",
       "      <td>10135</td>\n",
       "      <td>0</td>\n",
       "      <td>0</td>\n",
       "      <td>1</td>\n",
       "      <td>1</td>\n",
       "      <td>5</td>\n",
       "      <td>3</td>\n",
       "      <td>0</td>\n",
       "      <td>65893</td>\n",
       "      <td>...</td>\n",
       "      <td>Kissy Sullivan</td>\n",
       "      <td>20.0</td>\n",
       "      <td>LinkedIn</td>\n",
       "      <td>Fully Meets</td>\n",
       "      <td>4.07</td>\n",
       "      <td>4</td>\n",
       "      <td>0</td>\n",
       "      <td>2/28/2019</td>\n",
       "      <td>0</td>\n",
       "      <td>13</td>\n",
       "    </tr>\n",
       "    <tr>\n",
       "      <th>307</th>\n",
       "      <td>Ybarra, Catherine</td>\n",
       "      <td>10301</td>\n",
       "      <td>0</td>\n",
       "      <td>0</td>\n",
       "      <td>0</td>\n",
       "      <td>5</td>\n",
       "      <td>5</td>\n",
       "      <td>1</td>\n",
       "      <td>0</td>\n",
       "      <td>48513</td>\n",
       "      <td>...</td>\n",
       "      <td>Brannon Miller</td>\n",
       "      <td>12.0</td>\n",
       "      <td>Google Search</td>\n",
       "      <td>PIP</td>\n",
       "      <td>3.20</td>\n",
       "      <td>2</td>\n",
       "      <td>0</td>\n",
       "      <td>9/2/2015</td>\n",
       "      <td>5</td>\n",
       "      <td>4</td>\n",
       "    </tr>\n",
       "    <tr>\n",
       "      <th>310</th>\n",
       "      <td>Zima, Colleen</td>\n",
       "      <td>10271</td>\n",
       "      <td>0</td>\n",
       "      <td>4</td>\n",
       "      <td>0</td>\n",
       "      <td>1</td>\n",
       "      <td>5</td>\n",
       "      <td>3</td>\n",
       "      <td>0</td>\n",
       "      <td>45046</td>\n",
       "      <td>...</td>\n",
       "      <td>David Stanley</td>\n",
       "      <td>14.0</td>\n",
       "      <td>LinkedIn</td>\n",
       "      <td>Fully Meets</td>\n",
       "      <td>4.50</td>\n",
       "      <td>5</td>\n",
       "      <td>0</td>\n",
       "      <td>1/30/2019</td>\n",
       "      <td>0</td>\n",
       "      <td>2</td>\n",
       "    </tr>\n",
       "  </tbody>\n",
       "</table>\n",
       "<p>241 rows × 36 columns</p>\n",
       "</div>"
      ],
      "text/plain": [
       "           Employee_Name  EmpID  MarriedID  MaritalStatusID  GenderID  \\\n",
       "0    Adinolfi, Wilson  K  10026          0                0         1   \n",
       "2      Akinkuolie, Sarah  10196          1                1         0   \n",
       "3           Alagbe,Trina  10088          1                1         0   \n",
       "4       Anderson, Carol   10069          0                2         0   \n",
       "5      Anderson, Linda    10002          0                0         0   \n",
       "..                   ...    ...        ...              ...       ...   \n",
       "304   Winthrop, Jordan    10033          0                0         1   \n",
       "305        Wolk, Hang  T  10174          0                0         0   \n",
       "306       Woodson, Jason  10135          0                0         1   \n",
       "307   Ybarra, Catherine   10301          0                0         0   \n",
       "310        Zima, Colleen  10271          0                4         0   \n",
       "\n",
       "     EmpStatusID  DeptID  PerfScoreID  FromDiversityJobFairID  Salary  ...  \\\n",
       "0              1       5            4                       0   62506  ...   \n",
       "2              5       5            3                       0   64955  ...   \n",
       "3              1       5            3                       0   64991  ...   \n",
       "4              5       5            3                       0   50825  ...   \n",
       "5              1       5            4                       0   57568  ...   \n",
       "..           ...     ...          ...                     ...     ...  ...   \n",
       "304            5       5            4                       0   70507  ...   \n",
       "305            1       5            3                       0   60446  ...   \n",
       "306            1       5            3                       0   65893  ...   \n",
       "307            5       5            1                       0   48513  ...   \n",
       "310            1       5            3                       0   45046  ...   \n",
       "\n",
       "        ManagerName  ManagerID RecruitmentSource PerformanceScore  \\\n",
       "0    Michael Albert       22.0          LinkedIn          Exceeds   \n",
       "2    Kissy Sullivan       20.0          LinkedIn      Fully Meets   \n",
       "3      Elijiah Gray       16.0            Indeed      Fully Meets   \n",
       "4    Webster Butler       39.0     Google Search      Fully Meets   \n",
       "5          Amy Dunn       11.0          LinkedIn          Exceeds   \n",
       "..              ...        ...               ...              ...   \n",
       "304  Brannon Miller       12.0          LinkedIn          Exceeds   \n",
       "305   David Stanley       14.0          LinkedIn      Fully Meets   \n",
       "306  Kissy Sullivan       20.0          LinkedIn      Fully Meets   \n",
       "307  Brannon Miller       12.0     Google Search              PIP   \n",
       "310   David Stanley       14.0          LinkedIn      Fully Meets   \n",
       "\n",
       "     EngagementSurvey EmpSatisfaction SpecialProjectsCount  \\\n",
       "0                4.60               5                    0   \n",
       "2                3.02               3                    0   \n",
       "3                4.84               5                    0   \n",
       "4                5.00               4                    0   \n",
       "5                5.00               5                    0   \n",
       "..                ...             ...                  ...   \n",
       "304              5.00               3                    0   \n",
       "305              3.40               4                    0   \n",
       "306              4.07               4                    0   \n",
       "307              3.20               2                    0   \n",
       "310              4.50               5                    0   \n",
       "\n",
       "    LastPerformanceReview_Date DaysLateLast30 Absences  \n",
       "0                    1/17/2019              0        1  \n",
       "2                    5/15/2012              0        3  \n",
       "3                     1/3/2019              0       15  \n",
       "4                     2/1/2016              0        2  \n",
       "5                     1/7/2019              0       15  \n",
       "..                         ...            ...      ...  \n",
       "304                  1/19/2016              0        7  \n",
       "305                  2/21/2019              0       14  \n",
       "306                  2/28/2019              0       13  \n",
       "307                   9/2/2015              5        4  \n",
       "310                  1/30/2019              0        2  \n",
       "\n",
       "[241 rows x 36 columns]"
      ]
     },
     "execution_count": 56,
     "metadata": {},
     "output_type": "execute_result"
    }
   ],
   "source": [
    "df[df['SpecialProjectsCount'] == 0]"
   ]
  },
  {
   "cell_type": "code",
   "execution_count": 57,
   "id": "d22bdb24-18a0-4a7b-9afe-96046544e9c8",
   "metadata": {},
   "outputs": [],
   "source": [
    "## Visulisation\n",
    "## Highest salary vs lowest salary"
   ]
  },
  {
   "cell_type": "code",
   "execution_count": 60,
   "id": "09c58bdc-6fbd-43e3-ae09-f79983988953",
   "metadata": {},
   "outputs": [
    {
     "data": {
      "text/plain": [
       "150    250000\n",
       "308    220450\n",
       "131    180000\n",
       "96     178000\n",
       "55     170500\n",
       "190    157000\n",
       "240    150290\n",
       "244    148999\n",
       "243    140920\n",
       "76     138888\n",
       "Name: Salary, dtype: int64"
      ]
     },
     "execution_count": 60,
     "metadata": {},
     "output_type": "execute_result"
    }
   ],
   "source": [
    "df.Salary.sort_values(ascending=False).head(10)"
   ]
  },
  {
   "cell_type": "code",
   "execution_count": 61,
   "id": "3af03360-f23a-416e-a997-044ab58a84a5",
   "metadata": {},
   "outputs": [
    {
     "data": {
      "text/plain": [
       "226    46430\n",
       "247    46428\n",
       "74     46335\n",
       "159    46120\n",
       "216    45998\n",
       "152    45433\n",
       "176    45395\n",
       "231    45115\n",
       "140    45069\n",
       "310    45046\n",
       "Name: Salary, dtype: int64"
      ]
     },
     "execution_count": 61,
     "metadata": {},
     "output_type": "execute_result"
    }
   ],
   "source": [
    "df.Salary.sort_values(ascending=False).tail(10)"
   ]
  },
  {
   "cell_type": "code",
   "execution_count": 63,
   "id": "ea7ef486-0fc4-42c3-9383-df509cafa175",
   "metadata": {},
   "outputs": [
    {
     "data": {
      "text/plain": [
       "<function matplotlib.pyplot.show(close=None, block=None)>"
      ]
     },
     "execution_count": 63,
     "metadata": {},
     "output_type": "execute_result"
    },
    {
     "data": {
      "image/png": "[encoded data removed]",
      "text/plain": [
       "<Figure size 640x480 with 1 Axes>"
      ]
     },
     "metadata": {},
     "output_type": "display_data"
    }
   ],
   "source": [
    "c = [1,2,3,4,5,6,7,8,9,10]\n",
    "y1 = df.Salary.sort_values(ascending=False).head(10)\n",
    "y2 = df.Salary.sort_values(ascending=False).tail(10)\n",
    "\n",
    "plt.bar(c,y1,color =  \"green\",label = \"Highest salaries\")\n",
    "plt.bar(c,y2,color =  \"red\",label = \"Lowest salaries\")\n",
    "\n",
    "plt.title(\"Top 10 Highest Vs Lowest salries \",fontsize = 14)\n",
    "plt.xticks(c)\n",
    "plt.ylabel(\"Salaries\")\n",
    "plt.legend()\n",
    "plt.show"
   ]
  },
  {
   "cell_type": "code",
   "execution_count": 64,
   "id": "c15f548f-0411-43c1-80ee-c5787d903d53",
   "metadata": {},
   "outputs": [],
   "source": [
    "## insights\n",
    "## lowest salary are very vlose to each other \n",
    "## Highest salary varies alot \n"
   ]
  },
  {
   "cell_type": "code",
   "execution_count": 67,
   "id": "25e376b9-fdbb-40d8-a62e-e7c2d14b312d",
   "metadata": {},
   "outputs": [
    {
     "data": {
      "text/plain": [
       "Index(['Employee_Name', 'EmpID', 'MarriedID', 'MaritalStatusID', 'GenderID',\n",
       "       'EmpStatusID', 'DeptID', 'PerfScoreID', 'FromDiversityJobFairID',\n",
       "       'Salary', 'Termd', 'PositionID', 'Position', 'State', 'Zip', 'DOB',\n",
       "       'Sex', 'MaritalDesc', 'CitizenDesc', 'HispanicLatino', 'RaceDesc',\n",
       "       'DateofHire', 'DateofTermination', 'TermReason', 'EmploymentStatus',\n",
       "       'Department', 'ManagerName', 'ManagerID', 'RecruitmentSource',\n",
       "       'PerformanceScore', 'EngagementSurvey', 'EmpSatisfaction',\n",
       "       'SpecialProjectsCount', 'LastPerformanceReview_Date', 'DaysLateLast30',\n",
       "       'Absences'],\n",
       "      dtype='object')"
      ]
     },
     "execution_count": 67,
     "metadata": {},
     "output_type": "execute_result"
    }
   ],
   "source": [
    "df.columns"
   ]
  },
  {
   "cell_type": "code",
   "execution_count": 69,
   "id": "71669db6-d08d-477d-bd64-a20cb1bb0a6f",
   "metadata": {},
   "outputs": [
    {
     "data": {
      "text/plain": [
       "array(['LinkedIn', 'Indeed', 'Google Search', 'Employee Referral',\n",
       "       'Diversity Job Fair', 'On-line Web application', 'CareerBuilder',\n",
       "       'Website', 'Other'], dtype=object)"
      ]
     },
     "execution_count": 69,
     "metadata": {},
     "output_type": "execute_result"
    }
   ],
   "source": [
    "df.RecruitmentSource.unique()"
   ]
  },
  {
   "cell_type": "code",
   "execution_count": 72,
   "id": "4a8f097a-11ed-4f52-b1a8-30eb35f412a7",
   "metadata": {},
   "outputs": [],
   "source": [
    "l = df.RecruitmentSource.value_counts()\n"
   ]
  },
  {
   "cell_type": "code",
   "execution_count": null,
   "id": "0cdce3ae-e45c-458a-96b5-9a559db0f7dd",
   "metadata": {},
   "outputs": [],
   "source": []
  },
  {
   "cell_type": "code",
   "execution_count": 73,
   "id": "b8ab063f-20b4-4796-92d4-d07d6eab3055",
   "metadata": {},
   "outputs": [
    {
     "data": {
      "text/plain": [
       "RecruitmentSource\n",
       "Indeed                     87\n",
       "LinkedIn                   76\n",
       "Google Search              49\n",
       "Employee Referral          31\n",
       "Diversity Job Fair         29\n",
       "CareerBuilder              23\n",
       "Website                    13\n",
       "Other                       2\n",
       "On-line Web application     1\n",
       "Name: count, dtype: int64"
      ]
     },
     "execution_count": 73,
     "metadata": {},
     "output_type": "execute_result"
    }
   ],
   "source": [
    "l"
   ]
  },
  {
   "cell_type": "code",
   "execution_count": 75,
   "id": "338eff2e-17bf-40f5-b2bc-c993cbceb2bb",
   "metadata": {},
   "outputs": [
    {
     "data": {
      "image/png": "[encoded data removed]",
      "text/plain": [
       "<Figure size 640x480 with 1 Axes>"
      ]
     },
     "metadata": {},
     "output_type": "display_data"
    }
   ],
   "source": [
    "plt.barh(l.index,l,color ='r')\n",
    "plt.title(\"Source of recruitment\",fontsize = 12)\n",
    "plt.xlabel(\"No fo candidates Hired\")\n",
    "plt.ylabel(\"No of candidates Hired\")\n",
    "plt.show()\n"
   ]
  },
  {
   "cell_type": "code",
   "execution_count": 76,
   "id": "ec0c4ecc-0fb5-4d29-aa8a-0c467a3a1712",
   "metadata": {},
   "outputs": [],
   "source": [
    "## insights is the most common foloowed by linkdin,google search"
   ]
  },
  {
   "cell_type": "code",
   "execution_count": 77,
   "id": "e56ad17c-fa78-4cd9-af98-0a601dc196b4",
   "metadata": {},
   "outputs": [
    {
     "data": {
      "text/plain": [
       "Index(['Employee_Name', 'EmpID', 'MarriedID', 'MaritalStatusID', 'GenderID',\n",
       "       'EmpStatusID', 'DeptID', 'PerfScoreID', 'FromDiversityJobFairID',\n",
       "       'Salary', 'Termd', 'PositionID', 'Position', 'State', 'Zip', 'DOB',\n",
       "       'Sex', 'MaritalDesc', 'CitizenDesc', 'HispanicLatino', 'RaceDesc',\n",
       "       'DateofHire', 'DateofTermination', 'TermReason', 'EmploymentStatus',\n",
       "       'Department', 'ManagerName', 'ManagerID', 'RecruitmentSource',\n",
       "       'PerformanceScore', 'EngagementSurvey', 'EmpSatisfaction',\n",
       "       'SpecialProjectsCount', 'LastPerformanceReview_Date', 'DaysLateLast30',\n",
       "       'Absences'],\n",
       "      dtype='object')"
      ]
     },
     "execution_count": 77,
     "metadata": {},
     "output_type": "execute_result"
    }
   ],
   "source": [
    "df.columns"
   ]
  },
  {
   "cell_type": "code",
   "execution_count": 78,
   "id": "336d0027-a884-4d82-abef-011b88c790b9",
   "metadata": {},
   "outputs": [
    {
     "data": {
      "text/plain": [
       "0          Exceeds\n",
       "1      Fully Meets\n",
       "2      Fully Meets\n",
       "3      Fully Meets\n",
       "4      Fully Meets\n",
       "          ...     \n",
       "306    Fully Meets\n",
       "307            PIP\n",
       "308        Exceeds\n",
       "309    Fully Meets\n",
       "310    Fully Meets\n",
       "Name: PerformanceScore, Length: 311, dtype: object"
      ]
     },
     "execution_count": 78,
     "metadata": {},
     "output_type": "execute_result"
    }
   ],
   "source": [
    "df.PerformanceScore"
   ]
  },
  {
   "cell_type": "code",
   "execution_count": 79,
   "id": "4a8a9cfd-4c20-4330-8eec-2ca0d53b8fb1",
   "metadata": {},
   "outputs": [],
   "source": [
    "z = df.PerformanceScore.value_counts()"
   ]
  },
  {
   "cell_type": "code",
   "execution_count": 80,
   "id": "3c01b339-3526-47ec-986d-d1beeb84608b",
   "metadata": {},
   "outputs": [
    {
     "data": {
      "text/plain": [
       "PerformanceScore\n",
       "Fully Meets          243\n",
       "Exceeds               37\n",
       "Needs Improvement     18\n",
       "PIP                   13\n",
       "Name: count, dtype: int64"
      ]
     },
     "execution_count": 80,
     "metadata": {},
     "output_type": "execute_result"
    }
   ],
   "source": [
    "z"
   ]
  },
  {
   "cell_type": "code",
   "execution_count": 82,
   "id": "b3332fb0-82ef-440f-8504-c31174418a7a",
   "metadata": {},
   "outputs": [
    {
     "data": {
      "image/png": "[encoded data removed]",
      "text/plain": [
       "<Figure size 1000x600 with 1 Axes>"
      ]
     },
     "metadata": {},
     "output_type": "display_data"
    }
   ],
   "source": [
    "plt.figure(figsize=(10,6))\n",
    "sns.lineplot(data = z,marker = 'o',color = 'purple',linewidth = 2)\n",
    "\n",
    "plt.title(\"Performance Trend analysis\")\n",
    "plt.xlabel(\"Performance Score\")\n",
    "plt.ylabel(\"Values\")\n",
    "plt.grid()\n",
    "plt.show()"
   ]
  },
  {
   "cell_type": "code",
   "execution_count": 83,
   "id": "702707df-e4a1-46f8-8e17-09b614ff6500",
   "metadata": {},
   "outputs": [],
   "source": [
    "## insights >>>> generally trend is incresing\n",
    "## Mostly the score 50-250"
   ]
  },
  {
   "cell_type": "code",
   "execution_count": 84,
   "id": "7819b675-626b-466c-b313-eaba9a7413f1",
   "metadata": {},
   "outputs": [
    {
     "data": {
      "text/plain": [
       "Index(['Employee_Name', 'EmpID', 'MarriedID', 'MaritalStatusID', 'GenderID',\n",
       "       'EmpStatusID', 'DeptID', 'PerfScoreID', 'FromDiversityJobFairID',\n",
       "       'Salary', 'Termd', 'PositionID', 'Position', 'State', 'Zip', 'DOB',\n",
       "       'Sex', 'MaritalDesc', 'CitizenDesc', 'HispanicLatino', 'RaceDesc',\n",
       "       'DateofHire', 'DateofTermination', 'TermReason', 'EmploymentStatus',\n",
       "       'Department', 'ManagerName', 'ManagerID', 'RecruitmentSource',\n",
       "       'PerformanceScore', 'EngagementSurvey', 'EmpSatisfaction',\n",
       "       'SpecialProjectsCount', 'LastPerformanceReview_Date', 'DaysLateLast30',\n",
       "       'Absences'],\n",
       "      dtype='object')"
      ]
     },
     "execution_count": 84,
     "metadata": {},
     "output_type": "execute_result"
    }
   ],
   "source": [
    "df.columns"
   ]
  },
  {
   "cell_type": "code",
   "execution_count": 86,
   "id": "9f55db67-7f10-4a9c-ab61-1f5f0f66a59c",
   "metadata": {},
   "outputs": [
    {
     "data": {
      "text/plain": [
       "0      5\n",
       "1      3\n",
       "2      3\n",
       "3      5\n",
       "4      4\n",
       "      ..\n",
       "306    4\n",
       "307    2\n",
       "308    5\n",
       "309    3\n",
       "310    5\n",
       "Name: EmpSatisfaction, Length: 311, dtype: int64"
      ]
     },
     "execution_count": 86,
     "metadata": {},
     "output_type": "execute_result"
    }
   ],
   "source": [
    "df.EmpSatisfaction ## scale 1 to 5"
   ]
  },
  {
   "cell_type": "code",
   "execution_count": 88,
   "id": "8760bbe0-4a8d-4fb1-9481-f421c7a01aaa",
   "metadata": {},
   "outputs": [
    {
     "data": {
      "text/plain": [
       "EmpSatisfaction\n",
       "3    108\n",
       "5     98\n",
       "4     94\n",
       "2      9\n",
       "1      2\n",
       "Name: count, dtype: int64"
      ]
     },
     "execution_count": 88,
     "metadata": {},
     "output_type": "execute_result"
    }
   ],
   "source": [
    "df.EmpSatisfaction.value_counts()"
   ]
  },
  {
   "cell_type": "code",
   "execution_count": 89,
   "id": "c25acb0b-1f72-4016-928d-9bf3a9b9500a",
   "metadata": {},
   "outputs": [
    {
     "data": {
      "text/plain": [
       "EmpSatisfaction\n",
       "3    108\n",
       "5     98\n",
       "4     94\n",
       "2      9\n",
       "1      2\n",
       "Name: count, dtype: int64"
      ]
     },
     "execution_count": 89,
     "metadata": {},
     "output_type": "execute_result"
    }
   ],
   "source": [
    "b = df.EmpSatisfaction.value_counts()\n",
    "b"
   ]
  },
  {
   "cell_type": "code",
   "execution_count": 93,
   "id": "8edad87a-bc1b-4b3b-95c1-745597d13884",
   "metadata": {},
   "outputs": [
    {
     "data": {
      "image/png": "[encoded data removed]",
      "text/plain": [
       "<Figure size 640x480 with 1 Axes>"
      ]
     },
     "metadata": {},
     "output_type": "display_data"
    }
   ],
   "source": [
    "plt.stem(b.index,b)\n",
    "plt.ylabel(\"No of employess\")\n",
    "plt.xticks(b.index)\n",
    "plt.xlabel(\"Rating given\")\n",
    "plt.show()\n"
   ]
  },
  {
   "cell_type": "code",
   "execution_count": 94,
   "id": "31e00e11-b88f-4505-ad6c-10b03e2425b1",
   "metadata": {},
   "outputs": [],
   "source": [
    "## each stem (vertcal line represent emplyoee satisfaction for each rating)\n",
    "## the most commo rating is 3"
   ]
  },
  {
   "cell_type": "code",
   "execution_count": 95,
   "id": "ea6733f1-fbb1-4d3c-aae8-655cb095f758",
   "metadata": {},
   "outputs": [],
   "source": [
    "## multivariate analysis "
   ]
  },
  {
   "cell_type": "code",
   "execution_count": 96,
   "id": "751d69f2-1a43-4b59-94de-1f2255e933b9",
   "metadata": {},
   "outputs": [
    {
     "data": {
      "text/plain": [
       "Index(['Employee_Name', 'EmpID', 'MarriedID', 'MaritalStatusID', 'GenderID',\n",
       "       'EmpStatusID', 'DeptID', 'PerfScoreID', 'FromDiversityJobFairID',\n",
       "       'Salary', 'Termd', 'PositionID', 'Position', 'State', 'Zip', 'DOB',\n",
       "       'Sex', 'MaritalDesc', 'CitizenDesc', 'HispanicLatino', 'RaceDesc',\n",
       "       'DateofHire', 'DateofTermination', 'TermReason', 'EmploymentStatus',\n",
       "       'Department', 'ManagerName', 'ManagerID', 'RecruitmentSource',\n",
       "       'PerformanceScore', 'EngagementSurvey', 'EmpSatisfaction',\n",
       "       'SpecialProjectsCount', 'LastPerformanceReview_Date', 'DaysLateLast30',\n",
       "       'Absences'],\n",
       "      dtype='object')"
      ]
     },
     "execution_count": 96,
     "metadata": {},
     "output_type": "execute_result"
    }
   ],
   "source": [
    "df.columns"
   ]
  },
  {
   "cell_type": "code",
   "execution_count": 97,
   "id": "c8b0f93b-3dff-40a8-bb83-3a95e127137d",
   "metadata": {},
   "outputs": [],
   "source": [
    "## Outliers i salary columns with respect to each department"
   ]
  },
  {
   "cell_type": "code",
   "execution_count": 98,
   "id": "ae7cdf8a-8258-422f-bffe-27118ad9a701",
   "metadata": {},
   "outputs": [
    {
     "data": {
      "image/png": "[encoded data removed]",
      "text/plain": [
       "<Figure size 1500x800 with 1 Axes>"
      ]
     },
     "metadata": {},
     "output_type": "display_data"
    }
   ],
   "source": [
    "plt.figure(figsize=(15,8))\n",
    "sns.boxplot(x = 'Department',y = 'Salary',data =df,palette=\"viridis\")\n",
    "plt.title(\"Department Salary\")\n",
    "plt.xlabel(\"Department\")\n",
    "plt.ylabel(\"Salary\")\n",
    "plt.xticks(rotation = 45)\n",
    "plt.show()"
   ]
  },
  {
   "cell_type": "code",
   "execution_count": 99,
   "id": "6999160f-084e-4043-b733-01a330c78c46",
   "metadata": {},
   "outputs": [],
   "source": [
    "## insights >> executives are paid first \n",
    "## least salary is production \n",
    "## outliers are present in few of the columns"
   ]
  },
  {
   "cell_type": "code",
   "execution_count": 100,
   "id": "4145b5bb-24fa-483c-ab04-015201a881e2",
   "metadata": {},
   "outputs": [
    {
     "data": {
      "text/plain": [
       "Index(['Employee_Name', 'EmpID', 'MarriedID', 'MaritalStatusID', 'GenderID',\n",
       "       'EmpStatusID', 'DeptID', 'PerfScoreID', 'FromDiversityJobFairID',\n",
       "       'Salary', 'Termd', 'PositionID', 'Position', 'State', 'Zip', 'DOB',\n",
       "       'Sex', 'MaritalDesc', 'CitizenDesc', 'HispanicLatino', 'RaceDesc',\n",
       "       'DateofHire', 'DateofTermination', 'TermReason', 'EmploymentStatus',\n",
       "       'Department', 'ManagerName', 'ManagerID', 'RecruitmentSource',\n",
       "       'PerformanceScore', 'EngagementSurvey', 'EmpSatisfaction',\n",
       "       'SpecialProjectsCount', 'LastPerformanceReview_Date', 'DaysLateLast30',\n",
       "       'Absences'],\n",
       "      dtype='object')"
      ]
     },
     "execution_count": 100,
     "metadata": {},
     "output_type": "execute_result"
    }
   ],
   "source": [
    "df.columns"
   ]
  },
  {
   "cell_type": "code",
   "execution_count": 101,
   "id": "ec87b3df-ac44-48c4-bc41-6d3d86529a98",
   "metadata": {},
   "outputs": [
    {
     "data": {
      "text/plain": [
       "0       Production Technician I\n",
       "1                       Sr. DBA\n",
       "2      Production Technician II\n",
       "3       Production Technician I\n",
       "4       Production Technician I\n",
       "                 ...           \n",
       "306    Production Technician II\n",
       "307     Production Technician I\n",
       "308                         CIO\n",
       "309                Data Analyst\n",
       "310     Production Technician I\n",
       "Name: Position, Length: 311, dtype: object"
      ]
     },
     "execution_count": 101,
     "metadata": {},
     "output_type": "execute_result"
    }
   ],
   "source": [
    "## for different positons plot the engaggement survey\n",
    "df.Position"
   ]
  },
  {
   "cell_type": "code",
   "execution_count": 105,
   "id": "4db4ee64-5d7e-40a0-9747-ee9b51fec31d",
   "metadata": {},
   "outputs": [
    {
     "data": {
      "text/plain": [
       "0      4.60\n",
       "1      4.96\n",
       "2      3.02\n",
       "3      4.84\n",
       "4      5.00\n",
       "       ... \n",
       "306    4.07\n",
       "307    3.20\n",
       "308    4.60\n",
       "309    5.00\n",
       "310    4.50\n",
       "Name: EngagementSurvey, Length: 311, dtype: float64"
      ]
     },
     "execution_count": 105,
     "metadata": {},
     "output_type": "execute_result"
    }
   ],
   "source": [
    "df.EngagementSurvey"
   ]
  },
  {
   "cell_type": "code",
   "execution_count": 108,
   "id": "4a3ce813-322e-449f-a5ed-ff8330756a03",
   "metadata": {},
   "outputs": [
    {
     "data": {
      "image/png": "[encoded data removed]",
      "text/plain": [
       "<Figure size 1500x800 with 1 Axes>"
      ]
     },
     "metadata": {},
     "output_type": "display_data"
    }
   ],
   "source": [
    "plt.figure(figsize= (15,8))\n",
    "sns.barplot(x = 'Position',y='EngagementSurvey',data = df,palette='muted')\n",
    "plt.xticks(rotation =45)\n",
    "plt.show()"
   ]
  },
  {
   "cell_type": "code",
   "execution_count": 109,
   "id": "953cca50-e2f6-40c0-902a-c053e4776f56",
   "metadata": {},
   "outputs": [
    {
     "data": {
      "text/plain": [
       "Index(['Employee_Name', 'EmpID', 'MarriedID', 'MaritalStatusID', 'GenderID',\n",
       "       'EmpStatusID', 'DeptID', 'PerfScoreID', 'FromDiversityJobFairID',\n",
       "       'Salary', 'Termd', 'PositionID', 'Position', 'State', 'Zip', 'DOB',\n",
       "       'Sex', 'MaritalDesc', 'CitizenDesc', 'HispanicLatino', 'RaceDesc',\n",
       "       'DateofHire', 'DateofTermination', 'TermReason', 'EmploymentStatus',\n",
       "       'Department', 'ManagerName', 'ManagerID', 'RecruitmentSource',\n",
       "       'PerformanceScore', 'EngagementSurvey', 'EmpSatisfaction',\n",
       "       'SpecialProjectsCount', 'LastPerformanceReview_Date', 'DaysLateLast30',\n",
       "       'Absences'],\n",
       "      dtype='object')"
      ]
     },
     "execution_count": 109,
     "metadata": {},
     "output_type": "execute_result"
    }
   ],
   "source": [
    "df.columns"
   ]
  },
  {
   "cell_type": "code",
   "execution_count": 110,
   "id": "dd33f7b5-b3e8-4f66-af1f-34cb4460ae1d",
   "metadata": {},
   "outputs": [
    {
     "data": {
      "text/plain": [
       "<function matplotlib.pyplot.show(close=None, block=None)>"
      ]
     },
     "execution_count": 110,
     "metadata": {},
     "output_type": "execute_result"
    },
    {
     "data": {
      "image/png": "[encoded data removed]",
      "text/plain": [
       "<Figure size 640x480 with 1 Axes>"
      ]
     },
     "metadata": {},
     "output_type": "display_data"
    }
   ],
   "source": [
    "## Marital status by gender\n",
    "\n",
    "sns.countplot(x = 'MaritalDesc',hue = 'GenderID',data = df ,palette= 'pastel')\n",
    "plt.show"
   ]
  },
  {
   "cell_type": "code",
   "execution_count": 111,
   "id": "6add5ea0-3cfc-4296-a703-528f558d127a",
   "metadata": {},
   "outputs": [],
   "source": [
    "## insighsts>>Most of males are single "
   ]
  },
  {
   "cell_type": "code",
   "execution_count": 112,
   "id": "7608ea70-ff91-4538-b10b-a2eab37a7ffd",
   "metadata": {},
   "outputs": [],
   "source": [
    "## What is the everage engaagment score for emplyoeedd fore each department"
   ]
  },
  {
   "cell_type": "code",
   "execution_count": 113,
   "id": "693d66b3-eb17-48a2-82a1-fcb819575321",
   "metadata": {},
   "outputs": [
    {
     "data": {
      "text/plain": [
       "Department\n",
       "Admin Offices           4.393333\n",
       "Executive Office        4.830000\n",
       "IT/IS                   4.154000\n",
       "Production              4.129569\n",
       "Sales                   3.818710\n",
       "Software Engineering    4.061818\n",
       "Name: EngagementSurvey, dtype: float64"
      ]
     },
     "execution_count": 113,
     "metadata": {},
     "output_type": "execute_result"
    }
   ],
   "source": [
    "\n",
    "df.groupby('Department')['EngagementSurvey'].mean()"
   ]
  },
  {
   "cell_type": "code",
   "execution_count": 115,
   "id": "5aa493eb-d5e0-4fcd-9049-51142f15d326",
   "metadata": {},
   "outputs": [],
   "source": [
    "## insight >> Executive office has the highest survey"
   ]
  },
  {
   "cell_type": "code",
   "execution_count": 116,
   "id": "1d4b503e-5316-437a-bc34-8e96f21b6f03",
   "metadata": {},
   "outputs": [],
   "source": [
    "## How amny employeess have been terminated for each position\n",
    "## How amny employeess have been terminated for each reason"
   ]
  },
  {
   "cell_type": "code",
   "execution_count": 117,
   "id": "ab10b59a-c9e4-47c0-a7ba-c5635afd9239",
   "metadata": {},
   "outputs": [
    {
     "data": {
      "text/plain": [
       "Index(['Employee_Name', 'EmpID', 'MarriedID', 'MaritalStatusID', 'GenderID',\n",
       "       'EmpStatusID', 'DeptID', 'PerfScoreID', 'FromDiversityJobFairID',\n",
       "       'Salary', 'Termd', 'PositionID', 'Position', 'State', 'Zip', 'DOB',\n",
       "       'Sex', 'MaritalDesc', 'CitizenDesc', 'HispanicLatino', 'RaceDesc',\n",
       "       'DateofHire', 'DateofTermination', 'TermReason', 'EmploymentStatus',\n",
       "       'Department', 'ManagerName', 'ManagerID', 'RecruitmentSource',\n",
       "       'PerformanceScore', 'EngagementSurvey', 'EmpSatisfaction',\n",
       "       'SpecialProjectsCount', 'LastPerformanceReview_Date', 'DaysLateLast30',\n",
       "       'Absences'],\n",
       "      dtype='object')"
      ]
     },
     "execution_count": 117,
     "metadata": {},
     "output_type": "execute_result"
    }
   ],
   "source": [
    "df.columns"
   ]
  },
  {
   "cell_type": "code",
   "execution_count": 119,
   "id": "30858348-942c-4675-b7b6-379f01feee8f",
   "metadata": {},
   "outputs": [
    {
     "data": {
      "text/plain": [
       "Position\n",
       "Administrative Assistant     2\n",
       "Area Sales Manager           4\n",
       "Data Analyst                 1\n",
       "Data Analyst                 1\n",
       "Database Administrator       3\n",
       "Enterprise Architect         1\n",
       "IT Manager - DB              1\n",
       "Network Engineer             1\n",
       "Principal Data Architect     1\n",
       "Production Manager           5\n",
       "Production Technician I     52\n",
       "Production Technician II    26\n",
       "Sales Manager                1\n",
       "Software Engineer            4\n",
       "Sr. DBA                      1\n",
       "Name: Employee_Name, dtype: int64"
      ]
     },
     "execution_count": 119,
     "metadata": {},
     "output_type": "execute_result"
    }
   ],
   "source": [
    "## How amny employeess have been terminated for each reason\n",
    "df[df['Termd'] == 1].groupby('Position')['Employee_Name'].count()\n"
   ]
  },
  {
   "cell_type": "code",
   "execution_count": 120,
   "id": "23c4f0d5-7c12-404b-8d82-3beaef64ce55",
   "metadata": {},
   "outputs": [
    {
     "data": {
      "text/plain": [
       "TermReason\n",
       "Another position                    20\n",
       "Fatal attraction                     1\n",
       "Learned that he is a gangster        1\n",
       "attendance                           7\n",
       "career change                        9\n",
       "gross misconduct                     1\n",
       "hours                                8\n",
       "maternity leave - did not return     3\n",
       "medical issues                       3\n",
       "military                             4\n",
       "more money                          11\n",
       "no-call, no-show                     4\n",
       "performance                          4\n",
       "relocation out of area               5\n",
       "retiring                             4\n",
       "return to school                     5\n",
       "unhappy                             14\n",
       "Name: Employee_Name, dtype: int64"
      ]
     },
     "execution_count": 120,
     "metadata": {},
     "output_type": "execute_result"
    }
   ],
   "source": [
    "df[df['Termd'] == 1].groupby( 'TermReason')['Employee_Name'].count()"
   ]
  },
  {
   "cell_type": "code",
   "execution_count": 121,
   "id": "cb42f244-e43a-4bd7-bf8b-fad19fbbd9d9",
   "metadata": {},
   "outputs": [],
   "source": [
    "## what is the median salary for male and female employee"
   ]
  },
  {
   "cell_type": "code",
   "execution_count": 122,
   "id": "f385b9ee-33b6-42f6-8239-d711e1fcf78f",
   "metadata": {},
   "outputs": [
    {
     "data": {
      "text/plain": [
       "Index(['Employee_Name', 'EmpID', 'MarriedID', 'MaritalStatusID', 'GenderID',\n",
       "       'EmpStatusID', 'DeptID', 'PerfScoreID', 'FromDiversityJobFairID',\n",
       "       'Salary', 'Termd', 'PositionID', 'Position', 'State', 'Zip', 'DOB',\n",
       "       'Sex', 'MaritalDesc', 'CitizenDesc', 'HispanicLatino', 'RaceDesc',\n",
       "       'DateofHire', 'DateofTermination', 'TermReason', 'EmploymentStatus',\n",
       "       'Department', 'ManagerName', 'ManagerID', 'RecruitmentSource',\n",
       "       'PerformanceScore', 'EngagementSurvey', 'EmpSatisfaction',\n",
       "       'SpecialProjectsCount', 'LastPerformanceReview_Date', 'DaysLateLast30',\n",
       "       'Absences'],\n",
       "      dtype='object')"
      ]
     },
     "execution_count": 122,
     "metadata": {},
     "output_type": "execute_result"
    }
   ],
   "source": [
    "df.columns"
   ]
  },
  {
   "cell_type": "code",
   "execution_count": 123,
   "id": "d2c188c7-f50a-44f7-9463-3862841ad35e",
   "metadata": {},
   "outputs": [
    {
     "data": {
      "text/plain": [
       "Sex\n",
       "F     62066.5\n",
       "M     63353.0\n",
       "Name: Salary, dtype: float64"
      ]
     },
     "execution_count": 123,
     "metadata": {},
     "output_type": "execute_result"
    }
   ],
   "source": [
    "df.groupby('Sex')['Salary'].median()"
   ]
  },
  {
   "cell_type": "code",
   "execution_count": 124,
   "id": "fbb41cba-bd89-47aa-a81f-403e9ad51ed5",
   "metadata": {},
   "outputs": [],
   "source": [
    "## what is the total absences and average engagement survey score for each department"
   ]
  },
  {
   "cell_type": "code",
   "execution_count": 125,
   "id": "5fa47fd7-0857-43fb-be41-cf704d33c9a2",
   "metadata": {},
   "outputs": [
    {
     "data": {
      "text/html": [
       "<div>\n",
       "<style scoped>\n",
       "    .dataframe tbody tr th:only-of-type {\n",
       "        vertical-align: middle;\n",
       "    }\n",
       "\n",
       "    .dataframe tbody tr th {\n",
       "        vertical-align: top;\n",
       "    }\n",
       "\n",
       "    .dataframe thead th {\n",
       "        text-align: right;\n",
       "    }\n",
       "</style>\n",
       "<table border=\"1\" class=\"dataframe\">\n",
       "  <thead>\n",
       "    <tr style=\"text-align: right;\">\n",
       "      <th></th>\n",
       "      <th>Absences</th>\n",
       "      <th>EngagementSurvey</th>\n",
       "    </tr>\n",
       "    <tr>\n",
       "      <th>Department</th>\n",
       "      <th></th>\n",
       "      <th></th>\n",
       "    </tr>\n",
       "  </thead>\n",
       "  <tbody>\n",
       "    <tr>\n",
       "      <th>Admin Offices</th>\n",
       "      <td>78</td>\n",
       "      <td>4.393333</td>\n",
       "    </tr>\n",
       "    <tr>\n",
       "      <th>Executive Office</th>\n",
       "      <td>10</td>\n",
       "      <td>4.830000</td>\n",
       "    </tr>\n",
       "    <tr>\n",
       "      <th>IT/IS</th>\n",
       "      <td>522</td>\n",
       "      <td>4.154000</td>\n",
       "    </tr>\n",
       "    <tr>\n",
       "      <th>Production</th>\n",
       "      <td>2120</td>\n",
       "      <td>4.129569</td>\n",
       "    </tr>\n",
       "    <tr>\n",
       "      <th>Sales</th>\n",
       "      <td>358</td>\n",
       "      <td>3.818710</td>\n",
       "    </tr>\n",
       "    <tr>\n",
       "      <th>Software Engineering</th>\n",
       "      <td>96</td>\n",
       "      <td>4.061818</td>\n",
       "    </tr>\n",
       "  </tbody>\n",
       "</table>\n",
       "</div>"
      ],
      "text/plain": [
       "                      Absences  EngagementSurvey\n",
       "Department                                      \n",
       "Admin Offices               78          4.393333\n",
       "Executive Office            10          4.830000\n",
       "IT/IS                      522          4.154000\n",
       "Production                2120          4.129569\n",
       "Sales                      358          3.818710\n",
       "Software Engineering        96          4.061818"
      ]
     },
     "execution_count": 125,
     "metadata": {},
     "output_type": "execute_result"
    }
   ],
   "source": [
    "df.groupby('Department').agg({'Absences':'sum','EngagementSurvey':'mean'})"
   ]
  },
  {
   "cell_type": "code",
   "execution_count": 126,
   "id": "d184fa6c-6ff3-4ebc-a469-e567d6956df2",
   "metadata": {},
   "outputs": [],
   "source": [
    "## what is the total number of special projects and average absences for employess in each gender"
   ]
  },
  {
   "cell_type": "code",
   "execution_count": 128,
   "id": "a2da32b2-2746-4ba6-9a27-586290bafbb6",
   "metadata": {},
   "outputs": [
    {
     "data": {
      "text/html": [
       "<div>\n",
       "<style scoped>\n",
       "    .dataframe tbody tr th:only-of-type {\n",
       "        vertical-align: middle;\n",
       "    }\n",
       "\n",
       "    .dataframe tbody tr th {\n",
       "        vertical-align: top;\n",
       "    }\n",
       "\n",
       "    .dataframe thead th {\n",
       "        text-align: right;\n",
       "    }\n",
       "</style>\n",
       "<table border=\"1\" class=\"dataframe\">\n",
       "  <thead>\n",
       "    <tr style=\"text-align: right;\">\n",
       "      <th></th>\n",
       "      <th>Absences</th>\n",
       "      <th>SpecialProjectsCount</th>\n",
       "    </tr>\n",
       "    <tr>\n",
       "      <th>Sex</th>\n",
       "      <th></th>\n",
       "      <th></th>\n",
       "    </tr>\n",
       "  </thead>\n",
       "  <tbody>\n",
       "    <tr>\n",
       "      <th>F</th>\n",
       "      <td>10.261364</td>\n",
       "      <td>183</td>\n",
       "    </tr>\n",
       "    <tr>\n",
       "      <th>M</th>\n",
       "      <td>10.207407</td>\n",
       "      <td>196</td>\n",
       "    </tr>\n",
       "  </tbody>\n",
       "</table>\n",
       "</div>"
      ],
      "text/plain": [
       "      Absences  SpecialProjectsCount\n",
       "Sex                                 \n",
       "F    10.261364                   183\n",
       "M    10.207407                   196"
      ]
     },
     "execution_count": 128,
     "metadata": {},
     "output_type": "execute_result"
    }
   ],
   "source": [
    "df.groupby('Sex').agg({'Absences':'mean','SpecialProjectsCount':'sum'})"
   ]
  },
  {
   "cell_type": "code",
   "execution_count": 129,
   "id": "a3e757b6-c40a-4e5f-8f40-7b017f530b7a",
   "metadata": {},
   "outputs": [],
   "source": [
    "##Inernal homewrks \n",
    "## what is maximun salary and minimum days late in the last 30 days for each of employees in each position\n",
    "## what is earliest and latest date of hire in each manager team?\n",
    "## how many terminated employeedd aere theree in each departmentand what is the verage level of satisfication\n"
   ]
  },
  {
   "cell_type": "code",
   "execution_count": null,
   "id": "c9af7872-3253-4956-88af-cf6fb4a8900f",
   "metadata": {},
   "outputs": [],
   "source": []
  }
 ],
 "metadata": {
  "kernelspec": {
   "display_name": "Python 3 (ipykernel)",
   "language": "python",
   "name": "python3"
  },
  "language_info": {
   "codemirror_mode": {
    "name": "ipython",
    "version": 3
   },
   "file_extension": ".py",
   "mimetype": "text/x-python",
   "name": "python",
   "nbconvert_exporter": "python",
   "pygments_lexer": "ipython3",
   "version": "3.13.3"
  }
 },
 "nbformat": 4,
 "nbformat_minor": 5
}
